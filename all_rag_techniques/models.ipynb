{
 "cells": [
  {
   "cell_type": "code",
   "execution_count": 26,
   "id": "22af89cf",
   "metadata": {},
   "outputs": [],
   "source": [
    "# remove cache to import correctly\n",
    "import sys\n",
    "# Try to remove the package and its dependencies from the cache\n",
    "if 'all_rag_techniques' in sys.modules:\n",
    "    del sys.modules['all_rag_techniques']\n",
    "if 'config' in sys.modules:\n",
    "    del sys.modules['config']"
   ]
  },
  {
   "cell_type": "code",
   "execution_count": 5,
   "id": "8362fb8c",
   "metadata": {},
   "outputs": [
    {
     "name": "stdout",
     "output_type": "stream",
     "text": [
      "Added project root to path: /Users/ruhwang/Desktop/AI/my_projects/context-engineering/advanced-rag\n",
      "✅ Package imported successfully!\n",
      "LANGCHAIN_API_KEY not set (empty in .env file)\n",
      "Environment setup complete!\n",
      "=== API Keys from config.py ===\n",
      "  GROQ_API_KEY: Loaded\n",
      "  COHERE_API_KEY: Loaded\n",
      "  OPENAI_API_KEY: Loaded\n",
      "  LANGCHAIN_API_KEY: Missing\n",
      "\n",
      "=== Environment Variables ===\n",
      "  os.environ['GROQ_API_KEY']: Set\n",
      "  os.environ['COHERE_API_KEY']: Set\n",
      "\n",
      "All essential keys loaded!\n"
     ]
    }
   ],
   "source": [
    "import sys\n",
    "from pathlib import Path\n",
    "\n",
    "# 1. Define the directory *containing* the all_rag_techniques package\n",
    "# Get the directory of the current notebook/script (__file__ might not work in some notebooks)\n",
    "# Assuming the notebook is inside all_rag_techniques/\n",
    "current_dir = Path.cwd() \n",
    "\n",
    "# The directory containing 'all_rag_techniques' is the parent directory\n",
    "project_root = current_dir.parent \n",
    "\n",
    "# 2. Add this root to the system path\n",
    "if str(project_root) not in sys.path:\n",
    "    sys.path.insert(0, str(project_root))\n",
    "    print(f\"Added project root to path: {project_root}\")\n",
    "else:\n",
    "    print(\"Project root already in path.\")\n",
    "\n",
    "# 3. Now the import should work\n",
    "try:\n",
    "    from all_rag_techniques import setup_environment, check_keys\n",
    "    print(\"✅ Package imported successfully!\")\n",
    "    setup_environment()\n",
    "    check_keys()\n",
    "except Exception as e:\n",
    "    print(f\"❌ Final import failed: {e}\")"
   ]
  },
  {
   "cell_type": "code",
   "execution_count": 32,
   "id": "5442d9f9",
   "metadata": {},
   "outputs": [
    {
     "name": "stdout",
     "output_type": "stream",
     "text": [
      "Available Groq models: [{'id': 'playai-tts', 'object': 'model', 'created': 1740682771, 'owned_by': 'PlayAI', 'active': True, 'context_window': 8192, 'public_apps': None, 'max_completion_tokens': 8192}, {'id': 'meta-llama/llama-4-scout-17b-16e-instruct', 'object': 'model', 'created': 1743874824, 'owned_by': 'Meta', 'active': True, 'context_window': 131072, 'public_apps': None, 'max_completion_tokens': 8192}, {'id': 'meta-llama/llama-4-maverick-17b-128e-instruct', 'object': 'model', 'created': 1743877158, 'owned_by': 'Meta', 'active': True, 'context_window': 131072, 'public_apps': None, 'max_completion_tokens': 8192}, {'id': 'meta-llama/llama-prompt-guard-2-22m', 'object': 'model', 'created': 1748632101, 'owned_by': 'Meta', 'active': True, 'context_window': 512, 'public_apps': None, 'max_completion_tokens': 512}, {'id': 'llama-3.1-8b-instant', 'object': 'model', 'created': 1693721698, 'owned_by': 'Meta', 'active': True, 'context_window': 131072, 'public_apps': None, 'max_completion_tokens': 131072}, {'id': 'openai/gpt-oss-120b', 'object': 'model', 'created': 1754408224, 'owned_by': 'OpenAI', 'active': True, 'context_window': 131072, 'public_apps': None, 'max_completion_tokens': 65536}, {'id': 'whisper-large-v3-turbo', 'object': 'model', 'created': 1728413088, 'owned_by': 'OpenAI', 'active': True, 'context_window': 448, 'public_apps': None, 'max_completion_tokens': 448}, {'id': 'playai-tts-arabic', 'object': 'model', 'created': 1740682783, 'owned_by': 'PlayAI', 'active': True, 'context_window': 8192, 'public_apps': None, 'max_completion_tokens': 8192}, {'id': 'groq/compound-mini', 'object': 'model', 'created': 1756949707, 'owned_by': 'Groq', 'active': True, 'context_window': 131072, 'public_apps': None, 'max_completion_tokens': 8192}, {'id': 'moonshotai/kimi-k2-instruct-0905', 'object': 'model', 'created': 1757046093, 'owned_by': 'Moonshot AI', 'active': True, 'context_window': 262144, 'public_apps': None, 'max_completion_tokens': 16384}, {'id': 'meta-llama/llama-prompt-guard-2-86m', 'object': 'model', 'created': 1748632165, 'owned_by': 'Meta', 'active': True, 'context_window': 512, 'public_apps': None, 'max_completion_tokens': 512}, {'id': 'groq/compound', 'object': 'model', 'created': 1756949530, 'owned_by': 'Groq', 'active': True, 'context_window': 131072, 'public_apps': None, 'max_completion_tokens': 8192}, {'id': 'whisper-large-v3', 'object': 'model', 'created': 1693721698, 'owned_by': 'OpenAI', 'active': True, 'context_window': 448, 'public_apps': None, 'max_completion_tokens': 448}, {'id': 'moonshotai/kimi-k2-instruct', 'object': 'model', 'created': 1752435491, 'owned_by': 'Moonshot AI', 'active': True, 'context_window': 131072, 'public_apps': None, 'max_completion_tokens': 16384}, {'id': 'qwen/qwen3-32b', 'object': 'model', 'created': 1748396646, 'owned_by': 'Alibaba Cloud', 'active': True, 'context_window': 131072, 'public_apps': None, 'max_completion_tokens': 40960}, {'id': 'meta-llama/llama-guard-4-12b', 'object': 'model', 'created': 1746743847, 'owned_by': 'Meta', 'active': True, 'context_window': 131072, 'public_apps': None, 'max_completion_tokens': 1024}, {'id': 'llama-3.3-70b-versatile', 'object': 'model', 'created': 1733447754, 'owned_by': 'Meta', 'active': True, 'context_window': 131072, 'public_apps': None, 'max_completion_tokens': 32768}, {'id': 'openai/gpt-oss-20b', 'object': 'model', 'created': 1754407957, 'owned_by': 'OpenAI', 'active': True, 'context_window': 131072, 'public_apps': None, 'max_completion_tokens': 65536}, {'id': 'allam-2-7b', 'object': 'model', 'created': 1737672203, 'owned_by': 'SDAIA', 'active': True, 'context_window': 4096, 'public_apps': None, 'max_completion_tokens': 4096}]\n"
     ]
    }
   ],
   "source": [
    "import requests\n",
    "import os\n",
    "\n",
    "# Using your GROQ_API_KEY\n",
    "api_key = os.getenv('GROQ_API_KEY')\n",
    "\n",
    "headers = {\n",
    "    'Authorization': f'Bearer {api_key}',\n",
    "    'Content-Type': 'application/json'\n",
    "}\n",
    "\n",
    "# List models endpoint\n",
    "response = requests.get('https://api.groq.com/openai/v1/models', headers=headers)\n",
    "models = response.json().get('data', [])\n",
    "\n",
    "print(f\"Available Groq models: {models}\")\n"
   ]
  },
  {
   "cell_type": "code",
   "execution_count": 33,
   "id": "03d688cf",
   "metadata": {},
   "outputs": [
    {
     "data": {
      "text/plain": [
       "{'allam-2-7b',\n",
       " 'groq/compound',\n",
       " 'groq/compound-mini',\n",
       " 'llama-3.1-8b-instant',\n",
       " 'llama-3.3-70b-versatile',\n",
       " 'meta-llama/llama-4-maverick-17b-128e-instruct',\n",
       " 'meta-llama/llama-4-scout-17b-16e-instruct',\n",
       " 'meta-llama/llama-guard-4-12b',\n",
       " 'meta-llama/llama-prompt-guard-2-22m',\n",
       " 'meta-llama/llama-prompt-guard-2-86m',\n",
       " 'moonshotai/kimi-k2-instruct',\n",
       " 'moonshotai/kimi-k2-instruct-0905',\n",
       " 'openai/gpt-oss-120b',\n",
       " 'openai/gpt-oss-20b',\n",
       " 'playai-tts',\n",
       " 'playai-tts-arabic',\n",
       " 'qwen/qwen3-32b',\n",
       " 'whisper-large-v3',\n",
       " 'whisper-large-v3-turbo'}"
      ]
     },
     "execution_count": 33,
     "metadata": {},
     "output_type": "execute_result"
    }
   ],
   "source": [
    "all = {models[i][\"id\"] for i in range(len(models))}\n",
    "all"
   ]
  },
  {
   "cell_type": "code",
   "execution_count": 2,
   "id": "cbea6e04",
   "metadata": {},
   "outputs": [],
   "source": [
    "import os"
   ]
  },
  {
   "cell_type": "markdown",
   "id": "a479f6ab",
   "metadata": {},
   "source": [
    "OpenAI Models"
   ]
  },
  {
   "cell_type": "code",
   "execution_count": 6,
   "id": "10db2599",
   "metadata": {},
   "outputs": [
    {
     "name": "stdout",
     "output_type": "stream",
     "text": [
      "gpt-4-0613\n",
      "gpt-4\n",
      "gpt-3.5-turbo\n",
      "gpt-5-search-api-2025-10-14\n",
      "gpt-realtime-mini\n",
      "gpt-realtime-mini-2025-10-06\n",
      "sora-2\n",
      "sora-2-pro\n",
      "davinci-002\n",
      "babbage-002\n",
      "gpt-3.5-turbo-instruct\n",
      "gpt-3.5-turbo-instruct-0914\n",
      "dall-e-3\n",
      "dall-e-2\n",
      "gpt-4-1106-preview\n",
      "gpt-3.5-turbo-1106\n",
      "tts-1-hd\n",
      "tts-1-1106\n",
      "tts-1-hd-1106\n",
      "text-embedding-3-small\n",
      "text-embedding-3-large\n",
      "gpt-4-0125-preview\n",
      "gpt-4-turbo-preview\n",
      "gpt-3.5-turbo-0125\n",
      "gpt-4-turbo\n",
      "gpt-4-turbo-2024-04-09\n",
      "gpt-4o\n",
      "gpt-4o-2024-05-13\n",
      "gpt-4o-mini-2024-07-18\n",
      "gpt-4o-mini\n",
      "gpt-4o-2024-08-06\n",
      "chatgpt-4o-latest\n",
      "o1-mini-2024-09-12\n",
      "o1-mini\n",
      "gpt-4o-realtime-preview-2024-10-01\n",
      "gpt-4o-audio-preview-2024-10-01\n",
      "gpt-4o-audio-preview\n",
      "gpt-4o-realtime-preview\n",
      "omni-moderation-latest\n",
      "omni-moderation-2024-09-26\n",
      "gpt-4o-realtime-preview-2024-12-17\n",
      "gpt-4o-audio-preview-2024-12-17\n",
      "gpt-4o-mini-realtime-preview-2024-12-17\n",
      "gpt-4o-mini-audio-preview-2024-12-17\n",
      "o1-2024-12-17\n",
      "o1\n",
      "gpt-4o-mini-realtime-preview\n",
      "gpt-4o-mini-audio-preview\n",
      "o3-mini\n",
      "o3-mini-2025-01-31\n",
      "gpt-4o-2024-11-20\n",
      "gpt-4o-search-preview-2025-03-11\n",
      "gpt-4o-search-preview\n",
      "gpt-4o-mini-search-preview-2025-03-11\n",
      "gpt-4o-mini-search-preview\n",
      "gpt-4o-transcribe\n",
      "gpt-4o-mini-transcribe\n",
      "o1-pro-2025-03-19\n",
      "o1-pro\n",
      "gpt-4o-mini-tts\n",
      "o3-2025-04-16\n",
      "o4-mini-2025-04-16\n",
      "o3\n",
      "o4-mini\n",
      "gpt-4.1-2025-04-14\n",
      "gpt-4.1\n",
      "gpt-4.1-mini-2025-04-14\n",
      "gpt-4.1-mini\n",
      "gpt-4.1-nano-2025-04-14\n",
      "gpt-4.1-nano\n",
      "gpt-image-1\n",
      "codex-mini-latest\n",
      "gpt-4o-realtime-preview-2025-06-03\n",
      "gpt-4o-audio-preview-2025-06-03\n",
      "o4-mini-deep-research\n",
      "gpt-4o-transcribe-diarize\n",
      "o4-mini-deep-research-2025-06-26\n",
      "gpt-5-chat-latest\n",
      "gpt-5-2025-08-07\n",
      "gpt-5\n",
      "gpt-5-mini-2025-08-07\n",
      "gpt-5-mini\n",
      "gpt-5-nano-2025-08-07\n",
      "gpt-5-nano\n",
      "gpt-audio-2025-08-28\n",
      "gpt-realtime\n",
      "gpt-realtime-2025-08-28\n",
      "gpt-audio\n",
      "gpt-5-codex\n",
      "gpt-image-1-mini\n",
      "gpt-5-pro-2025-10-06\n",
      "gpt-5-pro\n",
      "gpt-audio-mini\n",
      "gpt-audio-mini-2025-10-06\n",
      "gpt-5-search-api\n",
      "gpt-3.5-turbo-16k\n",
      "tts-1\n",
      "whisper-1\n",
      "text-embedding-ada-002\n"
     ]
    }
   ],
   "source": [
    "from openai import OpenAI\n",
    "\n",
    "client = OpenAI(api_key=os.getenv('OPENAI_API_KEY'))\n",
    "models = client.models.list()\n",
    "\n",
    "for model in models:\n",
    "    print(model.id)"
   ]
  }
 ],
 "metadata": {
  "kernelspec": {
   "display_name": "agentenv",
   "language": "python",
   "name": "python3"
  },
  "language_info": {
   "codemirror_mode": {
    "name": "ipython",
    "version": 3
   },
   "file_extension": ".py",
   "mimetype": "text/x-python",
   "name": "python",
   "nbconvert_exporter": "python",
   "pygments_lexer": "ipython3",
   "version": "3.12.9"
  }
 },
 "nbformat": 4,
 "nbformat_minor": 5
}
