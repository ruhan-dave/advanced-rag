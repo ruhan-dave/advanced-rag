{
 "cells": [
  {
   "cell_type": "code",
   "execution_count": 26,
   "id": "22af89cf",
   "metadata": {},
   "outputs": [],
   "source": [
    "# remove cache to import correctly\n",
    "import sys\n",
    "# Try to remove the package and its dependencies from the cache\n",
    "if 'all_rag_techniques' in sys.modules:\n",
    "    del sys.modules['all_rag_techniques']\n",
    "if 'config' in sys.modules:\n",
    "    del sys.modules['config']"
   ]
  },
  {
   "cell_type": "code",
   "execution_count": 27,
   "id": "5901565e",
   "metadata": {},
   "outputs": [
    {
     "name": "stdout",
     "output_type": "stream",
     "text": [
      "LANGCHAIN_API_KEY not set (empty in .env file)\n",
      "Environment setup complete!\n",
      "=== API Keys from config.py ===\n",
      "  GROQ_API_KEY: Loaded\n",
      "  COHERE_API_KEY: Loaded\n",
      "  OPENAI_API_KEY: Loaded\n",
      "  LANGCHAIN_API_KEY: Missing\n",
      "\n",
      "=== Environment Variables ===\n",
      "  os.environ['GROQ_API_KEY']: Set\n",
      "  os.environ['COHERE_API_KEY']: Set\n",
      "\n",
      "All essential keys loaded!\n"
     ]
    },
    {
     "data": {
      "text/plain": [
       "True"
      ]
     },
     "execution_count": 27,
     "metadata": {},
     "output_type": "execute_result"
    }
   ],
   "source": [
    "# In any .py file or notebook (even outside all_rag_techniques/)\n",
    "from all_rag_techniques import setup_environment, check_keys\n",
    "\n",
    "# The __init__.py automatically sets up the parent path and imports\n",
    "setup_environment()\n",
    "check_keys()"
   ]
  },
  {
   "cell_type": "code",
   "execution_count": 32,
   "id": "5442d9f9",
   "metadata": {},
   "outputs": [
    {
     "name": "stdout",
     "output_type": "stream",
     "text": [
      "Available Groq models: [{'id': 'playai-tts', 'object': 'model', 'created': 1740682771, 'owned_by': 'PlayAI', 'active': True, 'context_window': 8192, 'public_apps': None, 'max_completion_tokens': 8192}, {'id': 'meta-llama/llama-4-scout-17b-16e-instruct', 'object': 'model', 'created': 1743874824, 'owned_by': 'Meta', 'active': True, 'context_window': 131072, 'public_apps': None, 'max_completion_tokens': 8192}, {'id': 'meta-llama/llama-4-maverick-17b-128e-instruct', 'object': 'model', 'created': 1743877158, 'owned_by': 'Meta', 'active': True, 'context_window': 131072, 'public_apps': None, 'max_completion_tokens': 8192}, {'id': 'meta-llama/llama-prompt-guard-2-22m', 'object': 'model', 'created': 1748632101, 'owned_by': 'Meta', 'active': True, 'context_window': 512, 'public_apps': None, 'max_completion_tokens': 512}, {'id': 'llama-3.1-8b-instant', 'object': 'model', 'created': 1693721698, 'owned_by': 'Meta', 'active': True, 'context_window': 131072, 'public_apps': None, 'max_completion_tokens': 131072}, {'id': 'openai/gpt-oss-120b', 'object': 'model', 'created': 1754408224, 'owned_by': 'OpenAI', 'active': True, 'context_window': 131072, 'public_apps': None, 'max_completion_tokens': 65536}, {'id': 'whisper-large-v3-turbo', 'object': 'model', 'created': 1728413088, 'owned_by': 'OpenAI', 'active': True, 'context_window': 448, 'public_apps': None, 'max_completion_tokens': 448}, {'id': 'playai-tts-arabic', 'object': 'model', 'created': 1740682783, 'owned_by': 'PlayAI', 'active': True, 'context_window': 8192, 'public_apps': None, 'max_completion_tokens': 8192}, {'id': 'groq/compound-mini', 'object': 'model', 'created': 1756949707, 'owned_by': 'Groq', 'active': True, 'context_window': 131072, 'public_apps': None, 'max_completion_tokens': 8192}, {'id': 'moonshotai/kimi-k2-instruct-0905', 'object': 'model', 'created': 1757046093, 'owned_by': 'Moonshot AI', 'active': True, 'context_window': 262144, 'public_apps': None, 'max_completion_tokens': 16384}, {'id': 'meta-llama/llama-prompt-guard-2-86m', 'object': 'model', 'created': 1748632165, 'owned_by': 'Meta', 'active': True, 'context_window': 512, 'public_apps': None, 'max_completion_tokens': 512}, {'id': 'groq/compound', 'object': 'model', 'created': 1756949530, 'owned_by': 'Groq', 'active': True, 'context_window': 131072, 'public_apps': None, 'max_completion_tokens': 8192}, {'id': 'whisper-large-v3', 'object': 'model', 'created': 1693721698, 'owned_by': 'OpenAI', 'active': True, 'context_window': 448, 'public_apps': None, 'max_completion_tokens': 448}, {'id': 'moonshotai/kimi-k2-instruct', 'object': 'model', 'created': 1752435491, 'owned_by': 'Moonshot AI', 'active': True, 'context_window': 131072, 'public_apps': None, 'max_completion_tokens': 16384}, {'id': 'qwen/qwen3-32b', 'object': 'model', 'created': 1748396646, 'owned_by': 'Alibaba Cloud', 'active': True, 'context_window': 131072, 'public_apps': None, 'max_completion_tokens': 40960}, {'id': 'meta-llama/llama-guard-4-12b', 'object': 'model', 'created': 1746743847, 'owned_by': 'Meta', 'active': True, 'context_window': 131072, 'public_apps': None, 'max_completion_tokens': 1024}, {'id': 'llama-3.3-70b-versatile', 'object': 'model', 'created': 1733447754, 'owned_by': 'Meta', 'active': True, 'context_window': 131072, 'public_apps': None, 'max_completion_tokens': 32768}, {'id': 'openai/gpt-oss-20b', 'object': 'model', 'created': 1754407957, 'owned_by': 'OpenAI', 'active': True, 'context_window': 131072, 'public_apps': None, 'max_completion_tokens': 65536}, {'id': 'allam-2-7b', 'object': 'model', 'created': 1737672203, 'owned_by': 'SDAIA', 'active': True, 'context_window': 4096, 'public_apps': None, 'max_completion_tokens': 4096}]\n"
     ]
    }
   ],
   "source": [
    "import requests\n",
    "import os\n",
    "\n",
    "# Using your GROQ_API_KEY\n",
    "api_key = os.getenv('GROQ_API_KEY')\n",
    "\n",
    "headers = {\n",
    "    'Authorization': f'Bearer {api_key}',\n",
    "    'Content-Type': 'application/json'\n",
    "}\n",
    "\n",
    "# List models endpoint\n",
    "response = requests.get('https://api.groq.com/openai/v1/models', headers=headers)\n",
    "models = response.json().get('data', [])\n",
    "\n",
    "print(f\"Available Groq models: {models}\")\n"
   ]
  },
  {
   "cell_type": "code",
   "execution_count": 33,
   "id": "03d688cf",
   "metadata": {},
   "outputs": [
    {
     "data": {
      "text/plain": [
       "{'allam-2-7b',\n",
       " 'groq/compound',\n",
       " 'groq/compound-mini',\n",
       " 'llama-3.1-8b-instant',\n",
       " 'llama-3.3-70b-versatile',\n",
       " 'meta-llama/llama-4-maverick-17b-128e-instruct',\n",
       " 'meta-llama/llama-4-scout-17b-16e-instruct',\n",
       " 'meta-llama/llama-guard-4-12b',\n",
       " 'meta-llama/llama-prompt-guard-2-22m',\n",
       " 'meta-llama/llama-prompt-guard-2-86m',\n",
       " 'moonshotai/kimi-k2-instruct',\n",
       " 'moonshotai/kimi-k2-instruct-0905',\n",
       " 'openai/gpt-oss-120b',\n",
       " 'openai/gpt-oss-20b',\n",
       " 'playai-tts',\n",
       " 'playai-tts-arabic',\n",
       " 'qwen/qwen3-32b',\n",
       " 'whisper-large-v3',\n",
       " 'whisper-large-v3-turbo'}"
      ]
     },
     "execution_count": 33,
     "metadata": {},
     "output_type": "execute_result"
    }
   ],
   "source": [
    "all = {models[i][\"id\"] for i in range(len(models))}\n",
    "all"
   ]
  },
  {
   "cell_type": "code",
   "execution_count": null,
   "id": "10db2599",
   "metadata": {},
   "outputs": [],
   "source": []
  }
 ],
 "metadata": {
  "kernelspec": {
   "display_name": "agentenv",
   "language": "python",
   "name": "python3"
  },
  "language_info": {
   "codemirror_mode": {
    "name": "ipython",
    "version": 3
   },
   "file_extension": ".py",
   "mimetype": "text/x-python",
   "name": "python",
   "nbconvert_exporter": "python",
   "pygments_lexer": "ipython3",
   "version": "3.12.9"
  }
 },
 "nbformat": 4,
 "nbformat_minor": 5
}
