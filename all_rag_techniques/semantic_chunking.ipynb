{
  "cells": [
    {
      "cell_type": "markdown",
      "metadata": {},
      "source": [
        "# Semantic Chunking for Document Processing\n",
        "\n",
        "## Overview\n",
        "\n",
        "This code implements a semantic chunking approach for processing and retrieving information from PDF documents, [first proposed by Greg Kamradt](https://youtu.be/8OJC21T2SL4?t=1933) and subsequently [implemented in LangChain](https://python.langchain.com/docs/how_to/semantic-chunker/). Unlike traditional methods that split text based on fixed character or word counts, semantic chunking aims to create more meaningful and context-aware text segments.\n",
        "\n",
        "## Motivation\n",
        "\n",
        "Traditional text splitting methods often break documents at arbitrary points, potentially disrupting the flow of information and context. Semantic chunking addresses this issue by attempting to split text at more natural breakpoints, preserving semantic coherence within each chunk.\n",
        "\n",
        "## Key Components\n",
        "\n",
        "1. PDF processing and text extraction\n",
        "2. Semantic chunking using LangChain's SemanticChunker\n",
        "3. Vector store creation using FAISS and OpenAI embeddings\n",
        "4. Retriever setup for querying the processed documents\n",
        "\n",
        "## Method Details\n",
        "\n",
        "### Document Preprocessing\n",
        "\n",
        "1. The PDF is read and converted to a string using a custom `read_pdf_to_string` function.\n",
        "\n",
        "### Semantic Chunking\n",
        "\n",
        "1. Utilizes LangChain's `SemanticChunker` with OpenAI embeddings.\n",
        "2. Three breakpoint types are available:\n",
        "   - 'percentile': Splits at differences greater than the X percentile.\n",
        "   - 'standard_deviation': Splits at differences greater than X standard deviations.\n",
        "   - 'interquartile': Uses the interquartile distance to determine split points.\n",
        "3. In this implementation, the 'percentile' method is used with a threshold of 90.\n",
        "\n",
        "### Vector Store Creation\n",
        "\n",
        "1. OpenAI embeddings are used to create vector representations of the semantic chunks.\n",
        "2. A FAISS vector store is created from these embeddings for efficient similarity search.\n",
        "\n",
        "### Retriever Setup\n",
        "\n",
        "1. A retriever is configured to fetch the top 2 most relevant chunks for a given query.\n",
        "\n",
        "## Key Features\n",
        "\n",
        "1. Context-Aware Splitting: Attempts to maintain semantic coherence within chunks.\n",
        "2. Flexible Configuration: Allows for different breakpoint types and thresholds.\n",
        "3. Integration with Advanced NLP Tools: Uses OpenAI embeddings for both chunking and retrieval.\n",
        "\n",
        "## Benefits of this Approach\n",
        "\n",
        "1. Improved Coherence: Chunks are more likely to contain complete thoughts or ideas.\n",
        "2. Better Retrieval Relevance: By preserving context, retrieval accuracy may be enhanced.\n",
        "3. Adaptability: The chunking method can be adjusted based on the nature of the documents and retrieval needs.\n",
        "4. Potential for Better Understanding: LLMs or downstream tasks may perform better with more coherent text segments.\n",
        "\n",
        "## Implementation Details\n",
        "\n",
        "1. Uses OpenAI's embeddings for both the semantic chunking process and the final vector representations.\n",
        "2. Employs FAISS for creating an efficient searchable index of the chunks.\n",
        "3. The retriever is set up to return the top 2 most relevant chunks, which can be adjusted as needed.\n",
        "\n",
        "## Example Usage\n",
        "\n",
        "The code includes a test query: \"What is the main cause of climate change?\". This demonstrates how the semantic chunking and retrieval system can be used to find relevant information from the processed document.\n",
        "\n",
        "## Conclusion\n",
        "\n",
        "Semantic chunking represents an advanced approach to document processing for retrieval systems. By attempting to maintain semantic coherence within text segments, it has the potential to improve the quality of retrieved information and enhance the performance of downstream NLP tasks. This technique is particularly valuable for processing long, complex documents where maintaining context is crucial, such as scientific papers, legal documents, or comprehensive reports."
      ]
    },
    {
      "cell_type": "markdown",
      "metadata": {},
      "source": [
        "<div style=\"text-align: center;\">\n",
        "\n",
        "<img src=\"../images/semantic_chunking_comparison.svg\" alt=\"Self RAG\" style=\"width:100%; height:auto;\">\n",
        "</div>"
      ]
    },
    {
      "cell_type": "markdown",
      "metadata": {},
      "source": [
        "# Package Installation and Imports\n",
        "\n",
        "The cell below installs all necessary packages required to run this notebook.\n"
      ]
    },
    {
      "cell_type": "code",
      "execution_count": null,
      "metadata": {},
      "outputs": [],
      "source": [
        "# Install required packages\n",
        "!pip install langchain-experimental langchain-openai python-dotenv"
      ]
    },
    {
      "cell_type": "code",
      "execution_count": null,
      "metadata": {},
      "outputs": [],
      "source": [
        "# Clone the repository to access helper functions and evaluation modules\n",
        "!git clone https://github.com/NirDiamant/RAG_TECHNIQUES.git\n",
        "import sys\n",
        "sys.path.append('RAG_TECHNIQUES')\n",
        "# If you need to run with the latest data\n",
        "# !cp -r RAG_TECHNIQUES/data .\n",
        "\n",
        "# Load environment variables from a .env file\n",
        "load_dotenv()\n",
        "\n",
        "# Set the OpenAI API key environment variable\n",
        "os.environ[\"OPENAI_API_KEY\"] = os.getenv('OPENAI_API_KEY')\n"
      ]
    },
    {
      "cell_type": "code",
      "execution_count": 1,
      "metadata": {},
      "outputs": [
        {
          "name": "stdout",
          "output_type": "stream",
          "text": [
            "Added project root to path: /Users/ruhwang/Desktop/AI/my_projects/context-engineering/advanced-rag\n",
            "✅ Package imported successfully!\n",
            "LANGCHAIN_API_KEY not set (empty in .env file)\n",
            "Environment setup complete!\n",
            "=== API Keys from config.py ===\n",
            "  GROQ_API_KEY: Loaded\n",
            "  COHERE_API_KEY: Loaded\n",
            "  OPENAI_API_KEY: Loaded\n",
            "  LANGCHAIN_API_KEY: Missing\n",
            "\n",
            "=== Environment Variables ===\n",
            "  os.environ['GROQ_API_KEY']: Set\n",
            "  os.environ['COHERE_API_KEY']: Set\n",
            "\n",
            "All essential keys loaded!\n"
          ]
        }
      ],
      "source": [
        "import sys\n",
        "from pathlib import Path\n",
        "\n",
        "# 1. Define the directory *containing* the all_rag_techniques package\n",
        "# Get the directory of the current notebook/script (__file__ might not work in some notebooks)\n",
        "# Assuming the notebook is inside all_rag_techniques/\n",
        "current_dir = Path.cwd() \n",
        "\n",
        "# The directory containing 'all_rag_techniques' is the parent directory\n",
        "project_root = current_dir.parent \n",
        "\n",
        "# 2. Add this root to the system path\n",
        "if str(project_root) not in sys.path:\n",
        "    sys.path.insert(0, str(project_root))\n",
        "    print(f\"Added project root to path: {project_root}\")\n",
        "else:\n",
        "    print(\"Project root already in path.\")\n",
        "\n",
        "# 3. Now the import should work\n",
        "try:\n",
        "    from all_rag_techniques import setup_environment, check_keys\n",
        "    print(\"✅ Package imported successfully!\")\n",
        "    setup_environment()\n",
        "    check_keys()\n",
        "except Exception as e:\n",
        "    print(f\"❌ Final import failed: {e}\")"
      ]
    },
    {
      "cell_type": "code",
      "execution_count": null,
      "metadata": {},
      "outputs": [],
      "source": [
        "!pip install langchain-experimental"
      ]
    },
    {
      "cell_type": "code",
      "execution_count": 4,
      "metadata": {},
      "outputs": [],
      "source": [
        "import os\n",
        "import sys\n",
        "from dotenv import load_dotenv\n",
        "\n",
        "# Original path append replaced for Colab compatibility\n",
        "from helper_functions import *\n",
        "from evaluation.evalute_rag import *\n",
        "\n",
        "from langchain_experimental.text_splitter import SemanticChunker\n",
        "from langchain_openai.embeddings import OpenAIEmbeddings"
      ]
    },
    {
      "cell_type": "markdown",
      "metadata": {},
      "source": [
        "### Define file path"
      ]
    },
    {
      "cell_type": "code",
      "execution_count": null,
      "metadata": {},
      "outputs": [],
      "source": [
        "# Download required data files\n",
        "import os\n",
        "os.makedirs('data', exist_ok=True)\n",
        "\n",
        "# Download the PDF document used in this notebook\n",
        "!wget -O data/Understanding_Climate_Change.pdf https://raw.githubusercontent.com/NirDiamant/RAG_TECHNIQUES/main/data/Understanding_Climate_Change.pdf\n",
        "!wget -O data/Understanding_Climate_Change.pdf https://raw.githubusercontent.com/NirDiamant/RAG_TECHNIQUES/main/data/Understanding_Climate_Change.pdf\n"
      ]
    },
    {
      "cell_type": "code",
      "execution_count": 5,
      "metadata": {},
      "outputs": [],
      "source": [
        "path = \"/Users/ruhwang/Desktop/AI/my_projects/context-engineering/advanced-rag/data/Understanding_Climate_Change.pdf\""
      ]
    },
    {
      "cell_type": "markdown",
      "metadata": {},
      "source": [
        "### Read PDF to string"
      ]
    },
    {
      "cell_type": "code",
      "execution_count": 6,
      "metadata": {},
      "outputs": [],
      "source": [
        "content = read_pdf_to_string(path)"
      ]
    },
    {
      "cell_type": "markdown",
      "metadata": {},
      "source": [
        "### Breakpoint types: \n",
        "* 'percentile': all differences between sentences are calculated, and then any difference greater than the X percentile is split.\n",
        "* 'standard_deviation': any difference greater than X standard deviations is split.\n",
        "* 'interquartile': the interquartile distance is used to split chunks."
      ]
    },
    {
      "cell_type": "code",
      "execution_count": 8,
      "metadata": {},
      "outputs": [],
      "source": [
        "text_splitter = SemanticChunker(OpenAIEmbeddings(model=\"text-embedding-3-small\", dimensions=512), \n",
        "                                breakpoint_threshold_type='percentile', \n",
        "                                breakpoint_threshold_amount=90) # chose which embeddings and breakpoint type and threshold to use"
      ]
    },
    {
      "cell_type": "markdown",
      "metadata": {},
      "source": [
        "### Split original text to semantic chunks"
      ]
    },
    {
      "cell_type": "code",
      "execution_count": 9,
      "metadata": {},
      "outputs": [],
      "source": [
        "docs = text_splitter.create_documents([content])"
      ]
    },
    {
      "cell_type": "code",
      "execution_count": 12,
      "metadata": {},
      "outputs": [
        {
          "data": {
            "text/plain": [
              "Document(metadata={}, page_content='Understanding Climate Change \\nChapter 1: Introduction to Climate Change \\nClimate change refers to significant, long-term changes in the global climate. The term \\n\"global climate\" encompasses the planet\\'s overall weather patterns, including temperature, \\nprecipitation, and wind patterns, over an extended period. Over the past century, human \\nactivities, particularly the burning of fossil fuels and deforestation, have significantly \\ncontributed to climate change. Historical Context \\nThe Earth\\'s climate has changed throughout history. Over the past 650,000 years, there have \\nbeen seven cycles of glacial advance and retreat, with the abrupt end of the last ice age about \\n11,700 years ago marking the beginning of the modern climate era and human civilization. Most of these climate changes are attributed to very small variations in Earth\\'s orbit that \\nchange the amount of solar energy our planet receives. During the Holocene epoch, which \\nbegan at the end of the last ice age, human societies flourished, but the industrial era has seen \\nunprecedented changes. Modern Observations \\nModern scientific observations indicate a rapid increase in global temperatures, sea levels, \\nand extreme weather events. The Intergovernmental Panel on Climate Change (IPCC) has \\ndocumented these changes extensively. Ice core samples, tree rings, and ocean sediments \\nprovide a historical record that scientists use to understand past climate conditions and \\npredict future trends. The evidence overwhelmingly shows that recent changes are primarily \\ndriven by human activities, particularly the emission of greenhouse gases. Chapter 2: Causes of Climate Change \\nGreenhouse Gases \\nThe primary cause of recent climate change is the increase in greenhouse gases in the \\natmosphere. Greenhouse gases, such as carbon dioxide (CO2), methane (CH4), and nitrous \\noxide (N2O), trap heat from the sun, creating a \"greenhouse effect.\" This effect is essential \\nfor life on Earth, as it keeps the planet warm enough to support life. However, human \\nactivities have intensified this natural process, leading to a warmer climate. Fossil Fuels \\nBurning fossil fuels for energy releases large amounts of CO2. This includes coal, oil, and \\nnatural gas used for electricity, heating, and transportation. The industrial revolution marked \\nthe beginning of a significant increase in fossil fuel consumption, which continues to rise \\ntoday. Coal \\nCoal is the most carbon-intensive fossil fuel, and its use for electricity generation is a major \\nsource of CO2 emissions. Despite a decline in some regions, coal remains a significant \\nenergy source globally. It is mined extensively in countries like China, India, and the United \\nStates, contributing significantly to their energy supplies and CO2 footprints. Oil \\nOil is used primarily for transportation fuels, such as gasoline and diesel. The combustion of \\noil products releases significant amounts of CO2 and other pollutants, contributing to climate \\nchange and air quality issues. The global oil industry is vast, involving extraction, refining, \\nand distribution, with significant geopolitical and economic implications. Natural Gas \\nNatural gas is the least carbon-intensive fossil fuel and is often seen as a \"bridge fuel\" to a \\nlower-carbon future. However, its extraction and use still contribute to greenhouse gas \\nemissions, particularly methane, which is a potent greenhouse gas. Innovations in fracking \\ntechnology have made natural gas more accessible, but this comes with environmental and \\nhealth concerns. Deforestation \\nForests act as carbon sinks, absorbing CO2 from the atmosphere.')"
            ]
          },
          "execution_count": 12,
          "metadata": {},
          "output_type": "execute_result"
        }
      ],
      "source": [
        "docs[0]"
      ]
    },
    {
      "cell_type": "code",
      "execution_count": 17,
      "metadata": {},
      "outputs": [
        {
          "data": {
            "text/plain": [
              "str"
            ]
          },
          "execution_count": 17,
          "metadata": {},
          "output_type": "execute_result"
        }
      ],
      "source": [
        "type(docs[0].page_content)"
      ]
    },
    {
      "cell_type": "markdown",
      "metadata": {},
      "source": [
        "### Create vector store and retriever"
      ]
    },
    {
      "cell_type": "code",
      "execution_count": 10,
      "metadata": {},
      "outputs": [],
      "source": [
        "embeddings = OpenAIEmbeddings(model=\"text-embedding-3-small\", dimensions=512)\n",
        "vectorstore = FAISS.from_documents(docs, embeddings)\n",
        "chunks_query_retriever = vectorstore.as_retriever(search_kwargs={\"k\": 2})"
      ]
    },
    {
      "cell_type": "markdown",
      "metadata": {},
      "source": [
        "### Test the retriever"
      ]
    },
    {
      "cell_type": "code",
      "execution_count": 18,
      "metadata": {},
      "outputs": [
        {
          "name": "stderr",
          "output_type": "stream",
          "text": [
            "/Users/ruhwang/Desktop/AI/my_projects/context-engineering/advanced-rag/helper_functions.py:143: LangChainDeprecationWarning: The method `BaseRetriever.get_relevant_documents` was deprecated in langchain-core 0.1.46 and will be removed in 1.0. Use :meth:`~invoke` instead.\n",
            "  docs = chunks_query_retriever.get_relevant_documents(question)\n"
          ]
        },
        {
          "name": "stdout",
          "output_type": "stream",
          "text": [
            "Context 1:\n",
            "Understanding Climate Change \n",
            "Chapter 1: Introduction to Climate Change \n",
            "Climate change refers to significant, long-term changes in the global climate. The term \n",
            "\"global climate\" encompasses the planet's overall weather patterns, including temperature, \n",
            "precipitation, and wind patterns, over an extended period. Over the past century, human \n",
            "activities, particularly the burning of fossil fuels and deforestation, have significantly \n",
            "contributed to climate change. Historical Context \n",
            "The Earth's climate has changed throughout history. Over the past 650,000 years, there have \n",
            "been seven cycles of glacial advance and retreat, with the abrupt end of the last ice age about \n",
            "11,700 years ago marking the beginning of the modern climate era and human civilization. Most of these climate changes are attributed to very small variations in Earth's orbit that \n",
            "change the amount of solar energy our planet receives. During the Holocene epoch, which \n",
            "began at the end of the last ice age, human societies flourished, but the industrial era has seen \n",
            "unprecedented changes. Modern Observations \n",
            "Modern scientific observations indicate a rapid increase in global temperatures, sea levels, \n",
            "and extreme weather events. The Intergovernmental Panel on Climate Change (IPCC) has \n",
            "documented these changes extensively. Ice core samples, tree rings, and ocean sediments \n",
            "provide a historical record that scientists use to understand past climate conditions and \n",
            "predict future trends. The evidence overwhelmingly shows that recent changes are primarily \n",
            "driven by human activities, particularly the emission of greenhouse gases. Chapter 2: Causes of Climate Change \n",
            "Greenhouse Gases \n",
            "The primary cause of recent climate change is the increase in greenhouse gases in the \n",
            "atmosphere. Greenhouse gases, such as carbon dioxide (CO2), methane (CH4), and nitrous \n",
            "oxide (N2O), trap heat from the sun, creating a \"greenhouse effect.\" This effect is essential \n",
            "for life on Earth, as it keeps the planet warm enough to support life. However, human \n",
            "activities have intensified this natural process, leading to a warmer climate. Fossil Fuels \n",
            "Burning fossil fuels for energy releases large amounts of CO2. This includes coal, oil, and \n",
            "natural gas used for electricity, heating, and transportation. The industrial revolution marked \n",
            "the beginning of a significant increase in fossil fuel consumption, which continues to rise \n",
            "today. Coal \n",
            "Coal is the most carbon-intensive fossil fuel, and its use for electricity generation is a major \n",
            "source of CO2 emissions. Despite a decline in some regions, coal remains a significant \n",
            "energy source globally. It is mined extensively in countries like China, India, and the United \n",
            "States, contributing significantly to their energy supplies and CO2 footprints. Oil \n",
            "Oil is used primarily for transportation fuels, such as gasoline and diesel. The combustion of \n",
            "oil products releases significant amounts of CO2 and other pollutants, contributing to climate \n",
            "change and air quality issues. The global oil industry is vast, involving extraction, refining, \n",
            "and distribution, with significant geopolitical and economic implications. Natural Gas \n",
            "Natural gas is the least carbon-intensive fossil fuel and is often seen as a \"bridge fuel\" to a \n",
            "lower-carbon future. However, its extraction and use still contribute to greenhouse gas \n",
            "emissions, particularly methane, which is a potent greenhouse gas. Innovations in fracking \n",
            "technology have made natural gas more accessible, but this comes with environmental and \n",
            "health concerns. Deforestation \n",
            "Forests act as carbon sinks, absorbing CO2 from the atmosphere.\n",
            "\n",
            "\n",
            "Context 2:\n",
            "These forests are vital for regulating the Earth's climate and supporting \n",
            "indigenous communities and wildlife. Agriculture \n",
            "Agriculture contributes to climate change through methane emissions from livestock, rice \n",
            "paddies, and the use of synthetic fertilizers. Methane is a potent greenhouse gas with a much \n",
            "higher heat-trapping capability than CO2, albeit in smaller quantities. Livestock Emissions \n",
            "Ruminant animals, such as cows and sheep, produce methane during digestion. Manure \n",
            "management practices also contribute to methane and nitrous oxide emissions. Innovations in \n",
            "livestock feeding and waste management can help mitigate these emissions. Rice Cultivation \n",
            "Flooded rice paddies create anaerobic conditions that lead to methane production. Improved \n",
            "water management and rice varieties can help reduce these emissions. Research into \n",
            "sustainable rice farming practices is crucial for balancing food security and climate goals. Fertilizers \n",
            "The use of synthetic fertilizers in agriculture releases nitrous oxide, a potent greenhouse gas. Practices such as precision farming and organic fertilizers can mitigate these emissions. The \n",
            "development of eco-friendly fertilizers and farming techniques is essential for reducing the \n",
            "agricultural sector's carbon footprint. Chapter 3: Effects of Climate Change \n",
            "The effects of climate change are already being felt around the world and are projected to \n",
            "intensify in the coming decades. These effects include: \n",
            "Rising Temperatures \n",
            "Global temperatures have risen by about 1.2 degrees Celsius (2.2 degrees Fahrenheit) since \n",
            "the late 19th century. This warming is not uniform, with some regions experiencing more \n",
            "significant increases than others. Heatwaves \n",
            "Heatwaves are becoming more frequent and severe, posing risks to human health, agriculture, \n",
            "and infrastructure. Cities are particularly vulnerable due to the \"urban heat island\" effect. Heatwaves can lead to heat-related illnesses and exacerbate existing health conditions. Changing Seasons \n",
            "Climate change is altering the timing and length of seasons, affecting ecosystems and human \n",
            "activities. For example, spring is arriving earlier, and winters are becoming shorter and \n",
            "milder in many regions. This shift disrupts plant and animal life cycles and agricultural \n",
            "practices. Melting Ice and Rising Sea Levels \n",
            "Warmer temperatures are causing polar ice caps and glaciers to melt, contributing to rising \n",
            "sea levels. Sea levels have risen by about 20 centimeters (8 inches) in the past century, \n",
            "threatening coastal communities and ecosystems. Polar Ice Melt \n",
            "The Arctic is warming at more than twice the global average rate, leading to significant ice \n",
            "loss. Antarctic ice sheets are also losing mass, contributing to sea level rise. This melting \n",
            "affects global ocean currents and weather patterns. Glacial Retreat \n",
            "Glaciers around the world are retreating, affecting water supplies for millions of people. Regions dependent on glacial meltwater, such as the Himalayas and the Andes, face \n",
            "particular risks. Glacial melt also impacts hydropower generation and agriculture. Coastal Erosion \n",
            "Rising sea levels and increased storm surges are accelerating coastal erosion, threatening \n",
            "homes, infrastructure, and ecosystems.\n",
            "\n",
            "\n"
          ]
        }
      ],
      "source": [
        "test_query = \"What is the main cause of climate change?\"\n",
        "context = retrieve_context_per_question(test_query, chunks_query_retriever)\n",
        "show_context(context)"
      ]
    },
    {
      "cell_type": "markdown",
      "metadata": {},
      "source": [
        "![](https://europe-west1-rag-techniques-views-tracker.cloudfunctions.net/rag-techniques-tracker?notebook=all-rag-techniques--semantic-chunking)"
      ]
    }
  ],
  "metadata": {
    "colab": {
      "name": "",
      "provenance": [],
      "toc_visible": true
    },
    "kernelspec": {
      "display_name": "agentenv",
      "language": "python",
      "name": "python3"
    },
    "language_info": {
      "codemirror_mode": {
        "name": "ipython",
        "version": 3
      },
      "file_extension": ".py",
      "mimetype": "text/x-python",
      "name": "python",
      "nbconvert_exporter": "python",
      "pygments_lexer": "ipython3",
      "version": "3.12.9"
    }
  },
  "nbformat": 4,
  "nbformat_minor": 2
}
