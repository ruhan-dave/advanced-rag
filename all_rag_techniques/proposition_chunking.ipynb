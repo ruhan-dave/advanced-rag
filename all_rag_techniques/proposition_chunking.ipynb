{
  "cells": [
    {
      "cell_type": "markdown",
      "metadata": {},
      "source": [
        "# Propositions Chunking"
      ]
    },
    {
      "cell_type": "markdown",
      "metadata": {},
      "source": [
        "### Overview\n",
        "\n",
        "This code implements the proposition chunking method, based on [research from Tony Chen, et. al.](https://doi.org/10.48550/arXiv.2312.06648). The system break downs the input text into propositions that are atomic, factual, self-contained, and concise in nature, encodes the propositions into a vectorstore, which can be later used for retrieval\n",
        "\n",
        "### Key Components\n",
        "\n",
        "1. **Document Chunking:** Splitting a document into manageable pieces for analysis.\n",
        "2. **Proposition Generation:** Using LLMs to break down document chunks into factual, self-contained propositions.\n",
        "3. **Proposition Quality Check:** Evaluating generated propositions based on accuracy, clarity, completeness, and conciseness.\n",
        "4. **Embedding and Vector Store:** Embedding both propositions and larger chunks of the document into a vector store for efficient retrieval.\n",
        "5. **Retrieval and Comparison:** Testing the retrieval system with different query sizes and comparing results from the proposition-based model with the larger chunk-based model.\n",
        "\n",
        "<img src=\"../images/proposition_chunking.svg\" alt=\"Reliable-RAG\" width=\"600\">\n",
        "\n",
        "### Motivation\n",
        "\n",
        "The motivation behind the propositions chunking method is to build a system that breaks down a text document into concise, factual propositions for more granular and precise information retrieval. Using propositions allows for finer control and better handling of specific queries, particularly for extracting knowledge from detailed or complex texts. The comparison between using smaller proposition chunks and larger document chunks aims to evaluate the effectiveness of granular information retrieval.\n",
        "\n",
        "### Method Details\n",
        "\n",
        "1. **Loading Environment Variables:** The code begins by loading environment variables (e.g., API keys for the LLM service) to ensure that the system can access the necessary resources.\n",
        "   \n",
        "2. **Document Chunking:**\n",
        "   - The input document is split into smaller pieces (chunks) using `RecursiveCharacterTextSplitter`. This ensures that each chunk is of manageable size for the LLM to process.\n",
        "   \n",
        "3. **Proposition Generation:**\n",
        "   - Propositions are generated from each chunk using an LLM (in this case, \"llama-3.1-70b-versatile\"). The output is structured as a list of factual, self-contained statements that can be understood without additional context.\n",
        "   \n",
        "4. **Quality Check:**\n",
        "   - A second LLM evaluates the quality of the propositions by scoring them on accuracy, clarity, completeness, and conciseness. Propositions that meet the required thresholds in all categories are retained.\n",
        "   \n",
        "5. **Embedding Propositions:**\n",
        "   - Propositions that pass the quality check are embedded into a vector store using the `OllamaEmbeddings` model. This allows for similarity-based retrieval of propositions when queries are made.\n",
        "   \n",
        "6. **Retrieval and Comparison:**\n",
        "   - Two retrieval systems are built: one using the proposition-based chunks and another using larger document chunks. Both are tested with several queries to compare their performance and the precision of the returned results.\n",
        "\n",
        "### Benefits\n",
        "\n",
        "- **Granularity:** By breaking the document into small factual propositions, the system allows for highly specific retrieval, making it easier to extract precise answers from large or complex documents.\n",
        "- **Quality Assurance:** The use of a quality-checking LLM ensures that the generated propositions meet specific standards, improving the reliability of the retrieved information.\n",
        "- **Flexibility in Retrieval:** The comparison between proposition-based and larger chunk-based retrieval allows for evaluating the trade-offs between granularity and broader context in search results.\n",
        "\n",
        "### Implementation\n",
        "\n",
        "1. **Proposition Generation:** The LLM is used in conjunction with a custom prompt to generate factual statements from the document chunks.\n",
        "2. **Quality Checking:** The generated propositions are passed through a grading system that evaluates accuracy, clarity, completeness, and conciseness.\n",
        "3. **Vector Store Integration:** Propositions are stored in a FAISS vector store after being embedded using a pre-trained embedding model, allowing for efficient similarity-based search and retrieval.\n",
        "4. **Query Testing:** Multiple test queries are made to the vector stores (proposition-based and larger chunks) to compare the retrieval performance.\n",
        "\n",
        "### Summary\n",
        "\n",
        "This code presents a robust method for breaking down a document into self-contained propositions using LLMs. The system performs a quality check on each proposition, embeds them in a vector store, and retrieves the most relevant information based on user queries. The ability to compare granular propositions against larger document chunks provides insight into which method yields more accurate or useful results for different types of queries. The approach emphasizes the importance of high-quality proposition generation and retrieval for precise information extraction from complex documents."
      ]
    },
    {
      "cell_type": "markdown",
      "metadata": {},
      "source": [
        "# Package Installation and Imports\n",
        "\n",
        "The cell below installs all necessary packages required to run this notebook.\n"
      ]
    },
    {
      "cell_type": "code",
      "execution_count": null,
      "metadata": {},
      "outputs": [],
      "source": [
        "# Install required packages\n",
        "!pip install faiss-cpu langchain langchain-community python-dotenv"
      ]
    },
    {
      "cell_type": "code",
      "execution_count": 2,
      "metadata": {},
      "outputs": [
        {
          "name": "stdout",
          "output_type": "stream",
          "text": [
            "Added project root to path: /Users/ruhwang/Desktop/AI/my_projects/context-engineering/advanced-rag\n",
            "✅ Package imported successfully!\n",
            "LANGCHAIN_API_KEY not set (empty in .env file)\n",
            "Environment setup complete!\n",
            "=== API Keys from config.py ===\n",
            "  GROQ_API_KEY: Loaded\n",
            "  COHERE_API_KEY: Loaded\n",
            "  OPENAI_API_KEY: Loaded\n",
            "  LANGCHAIN_API_KEY: Missing\n",
            "\n",
            "=== Environment Variables ===\n",
            "  os.environ['GROQ_API_KEY']: Set\n",
            "  os.environ['COHERE_API_KEY']: Set\n",
            "\n",
            "All essential keys loaded!\n"
          ]
        }
      ],
      "source": [
        "import sys\n",
        "from pathlib import Path\n",
        "\n",
        "# 1. Define the directory *containing* the all_rag_techniques package\n",
        "# Get the directory of the current notebook/script (__file__ might not work in some notebooks)\n",
        "# Assuming the notebook is inside all_rag_techniques/\n",
        "current_dir = Path.cwd() \n",
        "\n",
        "# The directory containing 'all_rag_techniques' is the parent directory\n",
        "project_root = current_dir.parent \n",
        "\n",
        "# 2. Add this root to the system path\n",
        "if str(project_root) not in sys.path:\n",
        "    sys.path.insert(0, str(project_root))\n",
        "    print(f\"Added project root to path: {project_root}\")\n",
        "else:\n",
        "    print(\"Project root already in path.\")\n",
        "\n",
        "# 3. Now the import should work\n",
        "try:\n",
        "    from all_rag_techniques import setup_environment, check_keys\n",
        "    print(\"✅ Package imported successfully!\")\n",
        "    setup_environment()\n",
        "    check_keys()\n",
        "except Exception as e:\n",
        "    print(f\"❌ Final import failed: {e}\")"
      ]
    },
    {
      "cell_type": "code",
      "execution_count": 1,
      "metadata": {},
      "outputs": [],
      "source": [
        "### LLMs\n",
        "import os\n",
        "from dotenv import load_dotenv\n",
        "\n",
        "# Load environment variables from '.env' file\n",
        "load_dotenv()\n",
        "\n",
        "os.environ['GROQ_API_KEY'] = os.getenv('GROQ_API_KEY') # For LLM"
      ]
    },
    {
      "cell_type": "markdown",
      "metadata": {},
      "source": [
        "### Test Document"
      ]
    },
    {
      "cell_type": "code",
      "execution_count": 3,
      "metadata": {},
      "outputs": [],
      "source": [
        "sample_content = \"\"\"Paul Graham's essay \"Founder Mode,\" published in September 2024, challenges conventional wisdom about scaling startups, arguing that founders should maintain their unique management style rather than adopting traditional corporate practices as their companies grow.\n",
        "Conventional Wisdom vs. Founder Mode\n",
        "The essay argues that the traditional advice given to growing companies—hiring good people and giving them autonomy—often fails when applied to startups.\n",
        "This approach, suitable for established companies, can be detrimental to startups where the founder's vision and direct involvement are crucial. \"Founder Mode\" is presented as an emerging paradigm that is not yet fully understood or documented, contrasting with the conventional \"manager mode\" often advised by business schools and professional managers.\n",
        "Unique Founder Abilities\n",
        "Founders possess unique insights and abilities that professional managers do not, primarily because they have a deep understanding of their company's vision and culture.\n",
        "Graham suggests that founders should leverage these strengths rather than conform to traditional managerial practices. \"Founder Mode\" is an emerging paradigm that is not yet fully understood or documented, with Graham hoping that over time, it will become as well-understood as the traditional manager mode, allowing founders to maintain their unique approach even as their companies scale.\n",
        "Challenges of Scaling Startups\n",
        "As startups grow, there is a common belief that they must transition to a more structured managerial approach. However, many founders have found this transition problematic, as it often leads to a loss of the innovative and agile spirit that drove the startup's initial success.\n",
        "Brian Chesky, co-founder of Airbnb, shared his experience of being advised to run the company in a traditional managerial style, which led to poor outcomes. He eventually found success by adopting a different approach, influenced by how Steve Jobs managed Apple.\n",
        "Steve Jobs' Management Style\n",
        "Steve Jobs' management approach at Apple served as inspiration for Brian Chesky's \"Founder Mode\" at Airbnb. One notable practice was Jobs' annual retreat for the 100 most important people at Apple, regardless of their position on the organizational chart\n",
        ". This unconventional method allowed Jobs to maintain a startup-like environment even as Apple grew, fostering innovation and direct communication across hierarchical levels. Such practices emphasize the importance of founders staying deeply involved in their companies' operations, challenging the traditional notion of delegating responsibilities to professional managers as companies scale.\n",
        "\"\"\""
      ]
    },
    {
      "cell_type": "markdown",
      "metadata": {},
      "source": [
        "### Chunking"
      ]
    },
    {
      "cell_type": "code",
      "execution_count": null,
      "metadata": {},
      "outputs": [],
      "source": [
        "### Build Index\n",
        "from langchain.text_splitter import RecursiveCharacterTextSplitter\n",
        "from langchain_core.documents import Document\n",
        "from langchain_community.vectorstores import FAISS\n",
        "from langchain_community.embeddings import OllamaEmbeddings\n",
        "\n",
        "# Set embeddings\n",
        "embedding_model = OllamaEmbeddings(model='nomic-embed-text:v1.5', show_progress=True)\n",
        "\n",
        "\n",
        "# docs\n",
        "docs_list = [Document(page_content=sample_content, metadata={\"Title\": \"Paul Graham's Founder Mode Essay\", \"Source\": \"https://www.perplexity.ai/page/paul-graham-s-founder-mode-ess-t9TCyvkqRiyMQJWsHr0fnQ\"})]\n",
        "\n",
        "# Split\n",
        "text_splitter = RecursiveCharacterTextSplitter.from_tiktoken_encoder(\n",
        "    chunk_size=200, chunk_overlap=50\n",
        ")\n",
        "\n",
        "doc_splits = text_splitter.split_documents(docs_list)"
      ]
    },
    {
      "cell_type": "code",
      "execution_count": 46,
      "metadata": {},
      "outputs": [
        {
          "data": {
            "text/plain": [
              "Document(metadata={'Title': \"Paul Graham's Founder Mode Essay\", 'Source': 'https://www.perplexity.ai/page/paul-graham-s-founder-mode-ess-t9TCyvkqRiyMQJWsHr0fnQ'}, page_content='Paul Graham\\'s essay \"Founder Mode,\" published in September 2024, challenges conventional wisdom about scaling startups, arguing that founders should maintain their unique management style rather than adopting traditional corporate practices as their companies grow.\\nConventional Wisdom vs. Founder Mode\\nThe essay argues that the traditional advice given to growing companies—hiring good people and giving them autonomy—often fails when applied to startups.\\nThis approach, suitable for established companies, can be detrimental to startups where the founder\\'s vision and direct involvement are crucial. \"Founder Mode\" is presented as an emerging paradigm that is not yet fully understood or documented, contrasting with the conventional \"manager mode\" often advised by business schools and professional managers.\\nUnique Founder Abilities\\nFounders possess unique insights and abilities that professional managers do not, primarily because they have a deep understanding of their company\\'s vision and culture.')"
            ]
          },
          "execution_count": 46,
          "metadata": {},
          "output_type": "execute_result"
        }
      ],
      "source": [
        "doc_splits[0]"
      ]
    },
    {
      "cell_type": "code",
      "execution_count": 5,
      "metadata": {},
      "outputs": [],
      "source": [
        "for i, doc in enumerate(doc_splits):\n",
        "    doc.metadata['chunk_id'] = i+1 ### adding chunk id"
      ]
    },
    {
      "cell_type": "markdown",
      "metadata": {},
      "source": [
        "### Generate Propositions"
      ]
    },
    {
      "cell_type": "code",
      "execution_count": 6,
      "metadata": {},
      "outputs": [
        {
          "name": "stderr",
          "output_type": "stream",
          "text": [
            "/opt/miniconda3/envs/agentenv/lib/python3.12/site-packages/IPython/core/interactiveshell.py:3670: LangChainDeprecationWarning: As of langchain-core 0.3.0, LangChain uses pydantic v2 internally. The langchain_core.pydantic_v1 module was a compatibility shim for pydantic v1, and should no longer be used. Please update the code to import from Pydantic directly.\n",
            "\n",
            "For example, replace imports like: `from langchain_core.pydantic_v1 import BaseModel`\n",
            "with: `from pydantic import BaseModel`\n",
            "or the v1 compatibility namespace if you are working in a code base that has not been fully upgraded to pydantic 2 yet. \tfrom pydantic.v1 import BaseModel\n",
            "\n",
            "  exec(code_obj, self.user_global_ns, self.user_ns)\n"
          ]
        }
      ],
      "source": [
        "from typing import List\n",
        "from langchain_core.prompts import ChatPromptTemplate, FewShotChatMessagePromptTemplate\n",
        "from langchain_core.pydantic_v1 import BaseModel, Field\n",
        "from langchain_groq import ChatGroq\n",
        "\n",
        "# Data model\n",
        "class GeneratePropositions(BaseModel):\n",
        "    \"\"\"List of all the propositions in a given document\"\"\"\n",
        "\n",
        "    propositions: List[str] = Field(\n",
        "        description=\"List of propositions (factual, self-contained, and concise information)\"\n",
        "    )\n",
        "\n",
        "\n",
        "# LLM with function call\n",
        "llm = ChatGroq(model=\"meta-llama/llama-4-maverick-17b-128e-instruct\", temperature=0)\n",
        "structured_llm= llm.with_structured_output(GeneratePropositions)\n",
        "\n",
        "# Few shot prompting --- We can add more examples to make it good\n",
        "proposition_examples = [\n",
        "    {\"document\": \n",
        "        \"In 1969, Neil Armstrong became the first person to walk on the Moon during the Apollo 11 mission.\", \n",
        "     \"propositions\": \n",
        "        \"['Neil Armstrong was an astronaut.', 'Neil Armstrong walked on the Moon in 1969.', 'Neil Armstrong was the first person to walk on the Moon.', 'Neil Armstrong walked on the Moon during the Apollo 11 mission.', 'The Apollo 11 mission occurred in 1969.']\"\n",
        "    },\n",
        "]\n",
        "\n",
        "example_proposition_prompt = ChatPromptTemplate.from_messages(\n",
        "    [\n",
        "        (\"human\", \"{document}\"),\n",
        "        (\"ai\", \"{propositions}\"),\n",
        "    ]\n",
        ")\n",
        "\n",
        "few_shot_prompt = FewShotChatMessagePromptTemplate(\n",
        "    example_prompt = example_proposition_prompt,\n",
        "    examples = proposition_examples,\n",
        ")\n",
        "\n",
        "# Prompt\n",
        "system = \"\"\"Please break down the following text into simple, self-contained propositions. Ensure that each proposition meets the following criteria:\n",
        "\n",
        "    1. Express a Single Fact: Each proposition should state one specific fact or claim.\n",
        "    2. Be Understandable Without Context: The proposition should be self-contained, meaning it can be understood without needing additional context.\n",
        "    3. Use Full Names, Not Pronouns: Avoid pronouns or ambiguous references; use full entity names.\n",
        "    4. Include Relevant Dates/Qualifiers: If applicable, include necessary dates, times, and qualifiers to make the fact precise.\n",
        "    5. Contain One Subject-Predicate Relationship: Focus on a single subject and its corresponding action or attribute, without conjunctions or multiple clauses.\"\"\"\n",
        "    \n",
        "prompt = ChatPromptTemplate.from_messages(\n",
        "    [\n",
        "        (\"system\", system),\n",
        "        few_shot_prompt,\n",
        "        (\"human\", \"{document}\"),\n",
        "    ]\n",
        ")\n",
        "\n",
        "proposition_generator = prompt | structured_llm"
      ]
    },
    {
      "cell_type": "code",
      "execution_count": 7,
      "metadata": {},
      "outputs": [],
      "source": [
        "propositions = [] # Store all the propositions from the document\n",
        "\n",
        "for i in range(len(doc_splits)):\n",
        "    response = proposition_generator.invoke({\"document\": doc_splits[i].page_content}) # Creating proposition\n",
        "    for proposition in response.propositions:\n",
        "        propositions.append(Document(page_content=proposition, metadata={\"Title\": \"Paul Graham's Founder Mode Essay\", \"Source\": \"https://www.perplexity.ai/page/paul-graham-s-founder-mode-ess-t9TCyvkqRiyMQJWsHr0fnQ\", \"chunk_id\": i+1}))"
      ]
    },
    {
      "cell_type": "markdown",
      "metadata": {},
      "source": [
        "### Quality Check"
      ]
    },
    {
      "cell_type": "code",
      "execution_count": 10,
      "metadata": {},
      "outputs": [],
      "source": [
        "# Data model\n",
        "class GradePropositions(BaseModel):\n",
        "    \"\"\"Grade a given proposition on accuracy, clarity, completeness, and conciseness\"\"\"\n",
        "\n",
        "    accuracy: int = Field(\n",
        "        description=\"Rate from 1-10 based on how well the proposition reflects the original text.\"\n",
        "    )\n",
        "    \n",
        "    clarity: int = Field(\n",
        "        description=\"Rate from 1-10 based on how easy it is to understand the proposition without additional context.\"\n",
        "    )\n",
        "\n",
        "    completeness: int = Field(\n",
        "        description=\"Rate from 1-10 based on whether the proposition includes necessary details (e.g., dates, qualifiers).\"\n",
        "    )\n",
        "\n",
        "    conciseness: int = Field(\n",
        "        description=\"Rate from 1-10 based on whether the proposition is concise without losing important information.\"\n",
        "    )\n",
        "\n",
        "# LLM with function call\n",
        "llm = ChatGroq(model=\"openai/gpt-oss-20b\", temperature=0)\n",
        "structured_llm = llm.with_structured_output(GradePropositions)\n",
        "\n",
        "# Prompt\n",
        "evaluation_prompt_template = \"\"\"\n",
        "Please evaluate the following proposition based on the criteria below:\n",
        "- **Accuracy**: Rate from 1-10 based on how well the proposition reflects the original text.\n",
        "- **Clarity**: Rate from 1-10 based on how easy it is to understand the proposition without additional context.\n",
        "- **Completeness**: Rate from 1-10 based on whether the proposition includes necessary details (e.g., dates, qualifiers).\n",
        "- **Conciseness**: Rate from 1-10 based on whether the proposition is concise without losing important information.\n",
        "\n",
        "Example:\n",
        "Docs: In 1969, Neil Armstrong became the first person to walk on the Moon during the Apollo 11 mission.\n",
        "\n",
        "Propositons_1: Neil Armstrong was an astronaut.\n",
        "Evaluation_1: \"accuracy\": 10, \"clarity\": 10, \"completeness\": 10, \"conciseness\": 10\n",
        "\n",
        "Propositons_2: Neil Armstrong walked on the Moon in 1969.\n",
        "Evaluation_3: \"accuracy\": 10, \"clarity\": 10, \"completeness\": 10, \"conciseness\": 10\n",
        "\n",
        "Propositons_3: Neil Armstrong was the first person to walk on the Moon.\n",
        "Evaluation_3: \"accuracy\": 10, \"clarity\": 10, \"completeness\": 10, \"conciseness\": 10\n",
        "\n",
        "Propositons_4: Neil Armstrong walked on the Moon during the Apollo 11 mission.\n",
        "Evaluation_4: \"accuracy\": 10, \"clarity\": 10, \"completeness\": 10, \"conciseness\": 10\n",
        "\n",
        "Propositons_5: The Apollo 11 mission occurred in 1969.\n",
        "Evaluation_5: \"accuracy\": 10, \"clarity\": 10, \"completeness\": 10, \"conciseness\": 10\n",
        "\n",
        "Format:\n",
        "Proposition: \"{proposition}\"\n",
        "Original Text: \"{original_text}\"\n",
        "\"\"\"\n",
        "prompt = ChatPromptTemplate.from_messages(\n",
        "    [\n",
        "        (\"system\", evaluation_prompt_template),\n",
        "        (\"human\", \"{proposition}, {original_text}\"),\n",
        "    ]\n",
        ")\n",
        "\n",
        "proposition_evaluator = prompt | structured_llm"
      ]
    },
    {
      "cell_type": "markdown",
      "metadata": {},
      "source": [
        "The above is incorrect:\n",
        "\n",
        "The issue is that you are using a LangChain Expression Language (LCEL) chain (prompt | structured_llm) with a ChatPromptTemplate that is passing the input variables ({proposition} and {original_text}) twice: once in the system prompt's template string and again as a comma-separated string in the human message.\n",
        "\n",
        "The model is likely getting confused by the redundant input format in the human message, causing the structured output mechanism to fail and result in the BadRequestError about not calling a tool.\n",
        "\n",
        "The fix is to correctly pass the variables in the human message and use the LCEL chain's invoke method correctly."
      ]
    },
    {
      "cell_type": "code",
      "execution_count": null,
      "metadata": {},
      "outputs": [],
      "source": [
        "# Updated Prompt Template: Cleaner approach\n",
        "evaluation_prompt_system_message = \"\"\"\n",
        "    You are an expert evaluator. Your task is to rate a proposition based on its supporting original text, \n",
        "    using the defined criteria (accuracy, clarity, completeness, conciseness) from 1 to 10. \n",
        "    You must respond *only* by calling the 'GradePropositions' function with the resulting scores. \n",
        "    Do not include any descriptive text or markdown.\n",
        "\n",
        "    [Example]:\n",
        "    Docs: In 1969, Neil Armstrong became the first person to walk on the Moon during the Apollo 11 mission.\n",
        "\n",
        "    Propositons_1: Neil Armstrong was an astronaut.\n",
        "    Evaluation_1: \"accuracy\": 10, \"clarity\": 10, \"completeness\": 10, \"conciseness\": 10\n",
        "\n",
        "    Propositons_2: Neil Armstrong walked on the Moon in 1969.\n",
        "    Evaluation_3: \"accuracy\": 10, \"clarity\": 10, \"completeness\": 10, \"conciseness\": 10\n",
        "\n",
        "    Propositons_3: Neil Armstrong was the first person to walk on the Moon.\n",
        "    Evaluation_3: \"accuracy\": 10, \"clarity\": 10, \"completeness\": 10, \"conciseness\": 10\n",
        "\n",
        "    Propositons_4: Neil Armstrong walked on the Moon during the Apollo 11 mission.\n",
        "    Evaluation_4: \"accuracy\": 10, \"clarity\": 10, \"completeness\": 10, \"conciseness\": 10\n",
        "\n",
        "    Propositons_5: The Apollo 11 mission occurred in 1969.\n",
        "    Evaluation_5: \"accuracy\": 10, \"clarity\": 10, \"completeness\": 10, \"conciseness\": 10\"\n",
        "\"\"\"\n",
        "\n",
        "evaluation_prompt_human_message = \"\"\"\n",
        "Proposition to Evaluate: \"{proposition}\"\n",
        "\n",
        "Original Supporting Text: \"{original_text}\"\n",
        "\n",
        "Evaluate the proposition based on the criteria provided in the system instructions.\n",
        "\"\"\"\n",
        "\n",
        "prompt = ChatPromptTemplate.from_messages(\n",
        "    [\n",
        "        (\"system\", evaluation_prompt_system_message),\n",
        "        (\"human\", evaluation_prompt_human_message),\n",
        "    ]\n",
        ")\n",
        "\n",
        "proposition_evaluator = prompt | structured_llm"
      ]
    },
    {
      "cell_type": "code",
      "execution_count": 14,
      "metadata": {},
      "outputs": [
        {
          "name": "stdout",
          "output_type": "stream",
          "text": [
            "--- Evaluating Proposition 1/40 ---\n",
            "PASS\n",
            "--- Evaluating Proposition 2/40 ---\n",
            "PASS\n",
            "--- Evaluating Proposition 3/40 ---\n",
            "PASS\n",
            "--- Evaluating Proposition 4/40 ---\n",
            "PASS\n",
            "--- Evaluating Proposition 5/40 ---\n",
            "PASS\n",
            "--- Evaluating Proposition 6/40 ---\n",
            "PASS\n",
            "--- Evaluating Proposition 7/40 ---\n",
            "PASS\n",
            "--- Evaluating Proposition 8/40 ---\n",
            "PASS\n",
            "--- Evaluating Proposition 9/40 ---\n",
            "PASS\n",
            "--- Evaluating Proposition 10/40 ---\n",
            "PASS\n",
            "--- Evaluating Proposition 11/40 ---\n",
            "PASS\n",
            "--- Evaluating Proposition 12/40 ---\n",
            "PASS\n",
            "--- Evaluating Proposition 13/40 ---\n",
            "PASS\n",
            "--- Evaluating Proposition 14/40 ---\n",
            "PASS\n",
            "--- Evaluating Proposition 15/40 ---\n",
            "PASS\n",
            "--- Evaluating Proposition 16/40 ---\n",
            "PASS\n",
            "--- Evaluating Proposition 17/40 ---\n",
            "PASS\n",
            "--- Evaluating Proposition 18/40 ---\n",
            "PASS\n",
            "--- Evaluating Proposition 19/40 ---\n",
            "PASS\n",
            "--- Evaluating Proposition 20/40 ---\n",
            "PASS\n",
            "--- Evaluating Proposition 21/40 ---\n",
            "PASS\n",
            "--- Evaluating Proposition 22/40 ---\n",
            "PASS\n",
            "--- Evaluating Proposition 23/40 ---\n",
            "PASS\n",
            "--- Evaluating Proposition 24/40 ---\n",
            "PASS\n",
            "--- Evaluating Proposition 25/40 ---\n",
            "PASS\n",
            "--- Evaluating Proposition 26/40 ---\n",
            "PASS\n",
            "--- Evaluating Proposition 27/40 ---\n",
            "PASS\n",
            "--- Evaluating Proposition 28/40 ---\n",
            "PASS\n",
            "--- Evaluating Proposition 29/40 ---\n",
            "PASS\n",
            "--- Evaluating Proposition 30/40 ---\n",
            "PASS\n",
            "--- Evaluating Proposition 31/40 ---\n",
            "PASS\n",
            "--- Evaluating Proposition 32/40 ---\n",
            "PASS\n",
            "--- Evaluating Proposition 33/40 ---\n",
            "PASS\n",
            "--- Evaluating Proposition 34/40 ---\n",
            "FAIL Propostion: The retreat was regardless of their position on the organizational chart.... \n",
            " Scores: {'accuracy': 5, 'clarity': 3, 'completeness': 3, 'conciseness': 4}\n",
            "--- Evaluating Proposition 35/40 ---\n",
            "PASS\n",
            "--- Evaluating Proposition 36/40 ---\n",
            "PASS\n",
            "--- Evaluating Proposition 37/40 ---\n",
            "PASS\n",
            "--- Evaluating Proposition 38/40 ---\n",
            "PASS\n",
            "--- Evaluating Proposition 39/40 ---\n",
            "PASS\n",
            "--- Evaluating Proposition 40/40 ---\n",
            "PASS\n",
            "\n",
            "Evaluation Complete. Total propositions kept: 39\n"
          ]
        }
      ],
      "source": [
        "# Define evaluation categories and thresholds\n",
        "evaluation_categories = [\"accuracy\", \"clarity\", \"completeness\", \"conciseness\"]\n",
        "thresholds = {\"accuracy\": 7, \"clarity\": 7, \"completeness\": 7, \"conciseness\": 7}\n",
        "\n",
        "# Function to evaluate proposition\n",
        "def evaluate_proposition(proposition, original_text):\n",
        "    response = proposition_evaluator.invoke({\"proposition\": proposition, \"original_text\": original_text})\n",
        "    \n",
        "    # Parse the response to extract scores\n",
        "    scores = {\"accuracy\": response.accuracy, \"clarity\": response.clarity, \"completeness\": response.completeness, \"conciseness\": response.conciseness}  # Implement function to extract scores from the LLM response\n",
        "    return scores\n",
        "\n",
        "# Check if the proposition passes the quality check\n",
        "def passes_quality_check(scores):\n",
        "    for category, score in scores.items():\n",
        "        if score < thresholds[category]:\n",
        "            return False\n",
        "    return True\n",
        "\n",
        "evaluated_propositions = [] # Store all the propositions from the document\n",
        "\n",
        "# Loop through generated propositions and evaluate them\n",
        "for idx, proposition in enumerate(propositions):\n",
        "    print(f\"--- Evaluating Proposition {idx+1}/{len(propositions)} ---\") # Add a status message\n",
        "    \n",
        "    try:\n",
        "        # Get the original text chunk safely\n",
        "        original_text = doc_splits[proposition.metadata['chunk_id'] - 1].page_content\n",
        "        \n",
        "        # 1. Call the LLM (most likely point of failure)\n",
        "        scores = evaluate_proposition(proposition.page_content, original_text)\n",
        "        \n",
        "        # 2. Check quality\n",
        "        if passes_quality_check(scores):\n",
        "            # Proposition passes quality check, keep it\n",
        "            evaluated_propositions.append(proposition)\n",
        "            print(\"PASS\")\n",
        "        else:\n",
        "            # Proposition fails, discard or flag for further review\n",
        "            print(f\"FAIL Propostion: {proposition.page_content[:100]}... \\n Scores: {scores}\")\n",
        "            \n",
        "    except Exception as e:\n",
        "        # Catch any errors (LLM failure, KeyError, etc.) and continue the loop\n",
        "        print(f\"ERROR Proposition {idx+1} failed evaluation due to an exception:\")\n",
        "        print(f\"Exception: {type(e).__name__} - {e}\")\n",
        "        # Optionally, you might want to break here if errors are persistent\n",
        "        # break \n",
        "        \n",
        "print(f\"\\nEvaluation Complete. Total propositions kept: {len(evaluated_propositions)}\")"
      ]
    },
    {
      "cell_type": "markdown",
      "metadata": {},
      "source": [
        "### Embedding propositions in a vectorstore"
      ]
    },
    {
      "cell_type": "code",
      "execution_count": 19,
      "metadata": {},
      "outputs": [],
      "source": [
        "from langchain_openai import OpenAIEmbeddings\n",
        "\n",
        "# Set embeddings\n",
        "embedding_model = OpenAIEmbeddings(\n",
        "    model=\"text-embedding-3-small\",\n",
        "    # With the `text-embedding-3` class\n",
        "    # of models, you can specify the size\n",
        "    # of the embeddings you want returned.\n",
        "    dimensions=1536\n",
        ")"
      ]
    },
    {
      "cell_type": "code",
      "execution_count": null,
      "metadata": {},
      "outputs": [],
      "source": [
        "# Add to vectorstore\n",
        "vectorstore_propositions = FAISS.from_documents(evaluated_propositions, embedding_model)\n",
        "# vectorstore_larger = FAISS.from_documents(doc_splits, embedding_model)\n",
        "retriever_propositions = vectorstore_propositions.as_retriever(\n",
        "                search_type=\"similarity\",\n",
        "                search_kwargs={'k': 4}, # number of documents to retrieve\n",
        "            )"
      ]
    },
    {
      "cell_type": "code",
      "execution_count": 21,
      "metadata": {},
      "outputs": [],
      "source": [
        "query = \"Who's management approach served as inspiartion for Brian Chesky's \\\"Founder Mode\\\" at Airbnb?\"\n",
        "res_proposition = retriever_propositions.invoke(query)"
      ]
    },
    {
      "cell_type": "code",
      "execution_count": 22,
      "metadata": {},
      "outputs": [
        {
          "name": "stdout",
          "output_type": "stream",
          "text": [
            "1) Content: Brian Chesky's 'Founder Mode' at Airbnb was inspired by Steve Jobs' management approach at Apple. --- Chunk_id: 3\n",
            "2) Content: Brian Chesky adopted a different management approach at Airbnb. --- Chunk_id: 3\n",
            "3) Content: Brian Chesky was advised to run Airbnb in a traditional managerial style. --- Chunk_id: 3\n",
            "4) Content: Brian Chesky's new management approach was influenced by Steve Jobs' management style at Apple. --- Chunk_id: 3\n"
          ]
        }
      ],
      "source": [
        "for i, r in enumerate(res_proposition):\n",
        "    print(f\"{i+1}) Content: {r.page_content} --- Chunk_id: {r.metadata['chunk_id']}\")"
      ]
    },
    {
      "cell_type": "markdown",
      "metadata": {},
      "source": [
        "### Comparing performance with larger chunks size"
      ]
    },
    {
      "cell_type": "code",
      "execution_count": 23,
      "metadata": {},
      "outputs": [],
      "source": [
        "# Add to vectorstore_larger_\n",
        "vectorstore_larger = FAISS.from_documents(doc_splits, embedding_model)\n",
        "retriever_larger = vectorstore_larger.as_retriever(\n",
        "                search_type=\"similarity\",\n",
        "                search_kwargs={'k': 4}, # number of documents to retrieve\n",
        "            )"
      ]
    },
    {
      "cell_type": "code",
      "execution_count": 24,
      "metadata": {},
      "outputs": [],
      "source": [
        "res_larger = retriever_larger.invoke(query)"
      ]
    },
    {
      "cell_type": "code",
      "execution_count": 38,
      "metadata": {},
      "outputs": [
        {
          "data": {
            "text/plain": [
              "{'Title': \"Paul Graham's Founder Mode Essay\",\n",
              " 'Source': 'https://www.perplexity.ai/page/paul-graham-s-founder-mode-ess-t9TCyvkqRiyMQJWsHr0fnQ'}"
            ]
          },
          "execution_count": 38,
          "metadata": {},
          "output_type": "execute_result"
        }
      ],
      "source": [
        "res_larger[0].metadata"
      ]
    },
    {
      "cell_type": "code",
      "execution_count": 41,
      "metadata": {},
      "outputs": [
        {
          "name": "stdout",
          "output_type": "stream",
          "text": [
            "1) Content: Brian Chesky, co-founder of Airbnb, shared his experience of being advised to run the company in a traditional managerial style, which led to poor outcomes. He eventually found success by adopting a different approach, influenced by how Steve Jobs managed Apple.\n",
            "Steve Jobs' Management Style\n",
            "Steve Jobs' management approach at Apple served as inspiration for Brian Chesky's \"Founder Mode\" at Airbnb. One notable practice was Jobs' annual retreat for the 100 most important people at Apple, regardless of their position on the organizational chart\n",
            ". This unconventional method allowed Jobs to maintain a startup-like environment even as Apple grew, fostering innovation and direct communication across hierarchical levels. Such practices emphasize the importance of founders staying deeply involved in their companies' operations, challenging the traditional notion of delegating responsibilities to professional managers as companies scale. \n",
            "--- Chunk_id: dc974ded-bade-4c0d-8439-b9f692f8ff36 \n",
            "-- Title: Paul Graham's Founder Mode Essay\n",
            "\n",
            "\n",
            "2) Content: Unique Founder Abilities\n",
            "Founders possess unique insights and abilities that professional managers do not, primarily because they have a deep understanding of their company's vision and culture.\n",
            "Graham suggests that founders should leverage these strengths rather than conform to traditional managerial practices. \"Founder Mode\" is an emerging paradigm that is not yet fully understood or documented, with Graham hoping that over time, it will become as well-understood as the traditional manager mode, allowing founders to maintain their unique approach even as their companies scale.\n",
            "Challenges of Scaling Startups\n",
            "As startups grow, there is a common belief that they must transition to a more structured managerial approach. However, many founders have found this transition problematic, as it often leads to a loss of the innovative and agile spirit that drove the startup's initial success. \n",
            "--- Chunk_id: b38cd62d-cb92-4001-95dc-547432fecdcd \n",
            "-- Title: Paul Graham's Founder Mode Essay\n",
            "\n",
            "\n",
            "3) Content: Paul Graham's essay \"Founder Mode,\" published in September 2024, challenges conventional wisdom about scaling startups, arguing that founders should maintain their unique management style rather than adopting traditional corporate practices as their companies grow.\n",
            "Conventional Wisdom vs. Founder Mode\n",
            "The essay argues that the traditional advice given to growing companies—hiring good people and giving them autonomy—often fails when applied to startups.\n",
            "This approach, suitable for established companies, can be detrimental to startups where the founder's vision and direct involvement are crucial. \"Founder Mode\" is presented as an emerging paradigm that is not yet fully understood or documented, contrasting with the conventional \"manager mode\" often advised by business schools and professional managers.\n",
            "Unique Founder Abilities\n",
            "Founders possess unique insights and abilities that professional managers do not, primarily because they have a deep understanding of their company's vision and culture. \n",
            "--- Chunk_id: 102711bb-0c60-47a7-8e0d-f4f5291790eb \n",
            "-- Title: Paul Graham's Founder Mode Essay\n",
            "\n",
            "\n"
          ]
        }
      ],
      "source": [
        "for i, r in enumerate(res_larger):\n",
        "    print(f\"{i+1}) Content: {r.page_content} \\n--- Chunk_id: {r.id} \\n-- Title: {r.metadata['Title']}\\n\\n\")"
      ]
    },
    {
      "cell_type": "markdown",
      "metadata": {},
      "source": [
        "### Testing"
      ]
    },
    {
      "cell_type": "markdown",
      "metadata": {},
      "source": [
        "#### Test - 1"
      ]
    },
    {
      "cell_type": "code",
      "execution_count": 42,
      "metadata": {},
      "outputs": [],
      "source": [
        "test_query_1 = \"what is the essay \\\"Founder Mode\\\" about?\"\n",
        "res_proposition = retriever_propositions.invoke(test_query_1)\n",
        "res_larger = retriever_larger.invoke(test_query_1)"
      ]
    },
    {
      "cell_type": "code",
      "execution_count": 43,
      "metadata": {},
      "outputs": [
        {
          "name": "stdout",
          "output_type": "stream",
          "text": [
            "1) Content: The essay 'Founder Mode' challenges conventional wisdom about scaling startups. \n",
            "--- Chunk_id: b69fde18-579c-433a-abfd-92d1172e062c \n",
            "-- Title: Paul Graham's Founder Mode Essay\n",
            "\n",
            "\n",
            "2) Content: The 'Founder Mode' is an emerging paradigm. \n",
            "--- Chunk_id: ccb8316f-91ce-4594-acd7-3e3825e55d09 \n",
            "-- Title: Paul Graham's Founder Mode Essay\n",
            "\n",
            "\n",
            "3) Content: The 'Founder Mode' is not yet fully understood or documented. \n",
            "--- Chunk_id: 0097a151-a65f-49c4-bdd8-fde3d77b18b8 \n",
            "-- Title: Paul Graham's Founder Mode Essay\n",
            "\n",
            "\n",
            "4) Content: Paul Graham published an essay titled 'Founder Mode' in September 2024. \n",
            "--- Chunk_id: 5afed207-fa46-4d53-8525-bb3590614e56 \n",
            "-- Title: Paul Graham's Founder Mode Essay\n",
            "\n",
            "\n"
          ]
        }
      ],
      "source": [
        "for i, r in enumerate(res_proposition):\n",
        "    print(f\"{i+1}) Content: {r.page_content} \\n--- Chunk_id: {r.id} \\n-- Title: {r.metadata['Title']}\\n\\n\")"
      ]
    },
    {
      "cell_type": "code",
      "execution_count": 44,
      "metadata": {},
      "outputs": [
        {
          "name": "stdout",
          "output_type": "stream",
          "text": [
            "1) Content: Paul Graham's essay \"Founder Mode,\" published in September 2024, challenges conventional wisdom about scaling startups, arguing that founders should maintain their unique management style rather than adopting traditional corporate practices as their companies grow.\n",
            "Conventional Wisdom vs. Founder Mode\n",
            "The essay argues that the traditional advice given to growing companies—hiring good people and giving them autonomy—often fails when applied to startups.\n",
            "This approach, suitable for established companies, can be detrimental to startups where the founder's vision and direct involvement are crucial. \"Founder Mode\" is presented as an emerging paradigm that is not yet fully understood or documented, contrasting with the conventional \"manager mode\" often advised by business schools and professional managers.\n",
            "Unique Founder Abilities\n",
            "Founders possess unique insights and abilities that professional managers do not, primarily because they have a deep understanding of their company's vision and culture. \n",
            "--- Chunk_id: 102711bb-0c60-47a7-8e0d-f4f5291790eb \n",
            "-- Title: Paul Graham's Founder Mode Essay\n",
            "\n",
            "\n",
            "2) Content: Unique Founder Abilities\n",
            "Founders possess unique insights and abilities that professional managers do not, primarily because they have a deep understanding of their company's vision and culture.\n",
            "Graham suggests that founders should leverage these strengths rather than conform to traditional managerial practices. \"Founder Mode\" is an emerging paradigm that is not yet fully understood or documented, with Graham hoping that over time, it will become as well-understood as the traditional manager mode, allowing founders to maintain their unique approach even as their companies scale.\n",
            "Challenges of Scaling Startups\n",
            "As startups grow, there is a common belief that they must transition to a more structured managerial approach. However, many founders have found this transition problematic, as it often leads to a loss of the innovative and agile spirit that drove the startup's initial success. \n",
            "--- Chunk_id: b38cd62d-cb92-4001-95dc-547432fecdcd \n",
            "-- Title: Paul Graham's Founder Mode Essay\n",
            "\n",
            "\n",
            "3) Content: Brian Chesky, co-founder of Airbnb, shared his experience of being advised to run the company in a traditional managerial style, which led to poor outcomes. He eventually found success by adopting a different approach, influenced by how Steve Jobs managed Apple.\n",
            "Steve Jobs' Management Style\n",
            "Steve Jobs' management approach at Apple served as inspiration for Brian Chesky's \"Founder Mode\" at Airbnb. One notable practice was Jobs' annual retreat for the 100 most important people at Apple, regardless of their position on the organizational chart\n",
            ". This unconventional method allowed Jobs to maintain a startup-like environment even as Apple grew, fostering innovation and direct communication across hierarchical levels. Such practices emphasize the importance of founders staying deeply involved in their companies' operations, challenging the traditional notion of delegating responsibilities to professional managers as companies scale. \n",
            "--- Chunk_id: dc974ded-bade-4c0d-8439-b9f692f8ff36 \n",
            "-- Title: Paul Graham's Founder Mode Essay\n",
            "\n",
            "\n"
          ]
        }
      ],
      "source": [
        "for i, r in enumerate(res_larger):\n",
        "        print(f\"{i+1}) Content: {r.page_content} \\n--- Chunk_id: {r.id} \\n-- Title: {r.metadata['Title']}\\n\\n\")"
      ]
    },
    {
      "cell_type": "markdown",
      "metadata": {},
      "source": [
        "#### Test - 2"
      ]
    },
    {
      "cell_type": "code",
      "execution_count": 48,
      "metadata": {},
      "outputs": [],
      "source": [
        "test_query_2 = \"who is the co-founder of Airbnb?\"\n",
        "res_proposition = retriever_propositions.invoke(test_query_2)\n",
        "res_larger = retriever_larger.invoke(test_query_2)"
      ]
    },
    {
      "cell_type": "code",
      "execution_count": 49,
      "metadata": {},
      "outputs": [
        {
          "name": "stdout",
          "output_type": "stream",
          "text": [
            "1) Content: Brian Chesky is the co-founder of Airbnb. --- Chunk_id: 3\n",
            "2) Content: Brian Chesky adopted a different management approach at Airbnb. --- Chunk_id: 3\n",
            "3) Content: Brian Chesky's 'Founder Mode' at Airbnb was inspired by Steve Jobs' management approach at Apple. --- Chunk_id: 3\n",
            "4) Content: Brian Chesky was advised to run Airbnb in a traditional managerial style. --- Chunk_id: 3\n"
          ]
        }
      ],
      "source": [
        "for i, r in enumerate(res_proposition):\n",
        "    print(f\"{i+1}) Content: {r.page_content} --- Chunk_id: {r.metadata['chunk_id']}\")"
      ]
    },
    {
      "cell_type": "code",
      "execution_count": 53,
      "metadata": {},
      "outputs": [
        {
          "data": {
            "text/plain": [
              "{'Title': \"Paul Graham's Founder Mode Essay\",\n",
              " 'Source': 'https://www.perplexity.ai/page/paul-graham-s-founder-mode-ess-t9TCyvkqRiyMQJWsHr0fnQ'}"
            ]
          },
          "execution_count": 53,
          "metadata": {},
          "output_type": "execute_result"
        }
      ],
      "source": [
        "res_larger[0].metadata"
      ]
    },
    {
      "cell_type": "code",
      "execution_count": 54,
      "metadata": {},
      "outputs": [
        {
          "name": "stdout",
          "output_type": "stream",
          "text": [
            "1) Content: Brian Chesky, co-founder of Airbnb, shared his experience of being advised to run the company in a traditional managerial style, which led to poor outcomes. He eventually found success by adopting a different approach, influenced by how Steve Jobs managed Apple.\n",
            "Steve Jobs' Management Style\n",
            "Steve Jobs' management approach at Apple served as inspiration for Brian Chesky's \"Founder Mode\" at Airbnb. One notable practice was Jobs' annual retreat for the 100 most important people at Apple, regardless of their position on the organizational chart\n",
            ". This unconventional method allowed Jobs to maintain a startup-like environment even as Apple grew, fostering innovation and direct communication across hierarchical levels. Such practices emphasize the importance of founders staying deeply involved in their companies' operations, challenging the traditional notion of delegating responsibilities to professional managers as companies scale. --- Chunk_id: dc974ded-bade-4c0d-8439-b9f692f8ff36\n",
            "2) Content: Unique Founder Abilities\n",
            "Founders possess unique insights and abilities that professional managers do not, primarily because they have a deep understanding of their company's vision and culture.\n",
            "Graham suggests that founders should leverage these strengths rather than conform to traditional managerial practices. \"Founder Mode\" is an emerging paradigm that is not yet fully understood or documented, with Graham hoping that over time, it will become as well-understood as the traditional manager mode, allowing founders to maintain their unique approach even as their companies scale.\n",
            "Challenges of Scaling Startups\n",
            "As startups grow, there is a common belief that they must transition to a more structured managerial approach. However, many founders have found this transition problematic, as it often leads to a loss of the innovative and agile spirit that drove the startup's initial success. --- Chunk_id: b38cd62d-cb92-4001-95dc-547432fecdcd\n",
            "3) Content: Paul Graham's essay \"Founder Mode,\" published in September 2024, challenges conventional wisdom about scaling startups, arguing that founders should maintain their unique management style rather than adopting traditional corporate practices as their companies grow.\n",
            "Conventional Wisdom vs. Founder Mode\n",
            "The essay argues that the traditional advice given to growing companies—hiring good people and giving them autonomy—often fails when applied to startups.\n",
            "This approach, suitable for established companies, can be detrimental to startups where the founder's vision and direct involvement are crucial. \"Founder Mode\" is presented as an emerging paradigm that is not yet fully understood or documented, contrasting with the conventional \"manager mode\" often advised by business schools and professional managers.\n",
            "Unique Founder Abilities\n",
            "Founders possess unique insights and abilities that professional managers do not, primarily because they have a deep understanding of their company's vision and culture. --- Chunk_id: 102711bb-0c60-47a7-8e0d-f4f5291790eb\n"
          ]
        }
      ],
      "source": [
        "for i, r in enumerate(res_larger):\n",
        "    print(f\"{i+1}) Content: {r.page_content} --- Chunk_id: {r.id}\")"
      ]
    },
    {
      "cell_type": "markdown",
      "metadata": {},
      "source": [
        "#### Test - 3"
      ]
    },
    {
      "cell_type": "code",
      "execution_count": 55,
      "metadata": {},
      "outputs": [],
      "source": [
        "test_query_3 = \"when was the essay \\\"founder mode\\\" published?\"\n",
        "res_proposition = retriever_propositions.invoke(test_query_3)\n",
        "res_larger = retriever_larger.invoke(test_query_3)"
      ]
    },
    {
      "cell_type": "code",
      "execution_count": 56,
      "metadata": {},
      "outputs": [
        {
          "name": "stdout",
          "output_type": "stream",
          "text": [
            "1) Content: Paul Graham published an essay titled 'Founder Mode' in September 2024. --- Chunk_id: 1\n",
            "2) Content: The essay 'Founder Mode' challenges conventional wisdom about scaling startups. --- Chunk_id: 1\n",
            "3) Content: The 'Founder Mode' is an emerging paradigm. --- Chunk_id: 1\n",
            "4) Content: The 'Founder Mode' is not yet fully understood or documented. --- Chunk_id: 1\n"
          ]
        }
      ],
      "source": [
        "for i, r in enumerate(res_proposition):\n",
        "    print(f\"{i+1}) Content: {r.page_content} --- Chunk_id: {r.metadata['chunk_id']}\")"
      ]
    },
    {
      "cell_type": "code",
      "execution_count": 57,
      "metadata": {},
      "outputs": [
        {
          "name": "stdout",
          "output_type": "stream",
          "text": [
            "1) Content: Paul Graham's essay \"Founder Mode,\" published in September 2024, challenges conventional wisdom about scaling startups, arguing that founders should maintain their unique management style rather than adopting traditional corporate practices as their companies grow.\n",
            "Conventional Wisdom vs. Founder Mode\n",
            "The essay argues that the traditional advice given to growing companies—hiring good people and giving them autonomy—often fails when applied to startups.\n",
            "This approach, suitable for established companies, can be detrimental to startups where the founder's vision and direct involvement are crucial. \"Founder Mode\" is presented as an emerging paradigm that is not yet fully understood or documented, contrasting with the conventional \"manager mode\" often advised by business schools and professional managers.\n",
            "Unique Founder Abilities\n",
            "Founders possess unique insights and abilities that professional managers do not, primarily because they have a deep understanding of their company's vision and culture. --- Chunk_id: 102711bb-0c60-47a7-8e0d-f4f5291790eb\n",
            "2) Content: Unique Founder Abilities\n",
            "Founders possess unique insights and abilities that professional managers do not, primarily because they have a deep understanding of their company's vision and culture.\n",
            "Graham suggests that founders should leverage these strengths rather than conform to traditional managerial practices. \"Founder Mode\" is an emerging paradigm that is not yet fully understood or documented, with Graham hoping that over time, it will become as well-understood as the traditional manager mode, allowing founders to maintain their unique approach even as their companies scale.\n",
            "Challenges of Scaling Startups\n",
            "As startups grow, there is a common belief that they must transition to a more structured managerial approach. However, many founders have found this transition problematic, as it often leads to a loss of the innovative and agile spirit that drove the startup's initial success. --- Chunk_id: b38cd62d-cb92-4001-95dc-547432fecdcd\n",
            "3) Content: Brian Chesky, co-founder of Airbnb, shared his experience of being advised to run the company in a traditional managerial style, which led to poor outcomes. He eventually found success by adopting a different approach, influenced by how Steve Jobs managed Apple.\n",
            "Steve Jobs' Management Style\n",
            "Steve Jobs' management approach at Apple served as inspiration for Brian Chesky's \"Founder Mode\" at Airbnb. One notable practice was Jobs' annual retreat for the 100 most important people at Apple, regardless of their position on the organizational chart\n",
            ". This unconventional method allowed Jobs to maintain a startup-like environment even as Apple grew, fostering innovation and direct communication across hierarchical levels. Such practices emphasize the importance of founders staying deeply involved in their companies' operations, challenging the traditional notion of delegating responsibilities to professional managers as companies scale. --- Chunk_id: dc974ded-bade-4c0d-8439-b9f692f8ff36\n"
          ]
        }
      ],
      "source": [
        "for i, r in enumerate(res_larger):\n",
        "    print(f\"{i+1}) Content: {r.page_content} --- Chunk_id: {r.id}\")"
      ]
    },
    {
      "cell_type": "markdown",
      "metadata": {},
      "source": [
        "### Comparison\n",
        "\n",
        "| **Aspect**                | **Proposition-Based Retrieval**                                         | **Simple Chunk Retrieval**                                              |\n",
        "|---------------------------|--------------------------------------------------------------------------|--------------------------------------------------------------------------|\n",
        "| **Precision in Response**  | High: Delivers focused and direct answers.                              | Medium: Provides more context but may include irrelevant information.    |\n",
        "| **Clarity and Brevity**    | High: Clear and concise, avoids unnecessary details.                    | Medium: More comprehensive but can be overwhelming.                      |\n",
        "| **Contextual Richness**    | Low: May lack context, focusing on specific propositions.               | High: Provides additional context and details.                           |\n",
        "| **Comprehensiveness**      | Low: May omit broader context or supplementary details.                 | High: Offers a more complete view with extensive information.            |\n",
        "| **Narrative Flow**         | Medium: Can be fragmented or disjointed.                                | High: Preserves the logical flow and coherence of the original document. |\n",
        "| **Information Overload**   | Low: Less likely to overwhelm with excess information.                  | High: Risk of overwhelming the user with too much information.           |\n",
        "| **Use Case Suitability**   | Best for quick, factual queries.                                        | Best for complex queries requiring in-depth understanding.               |\n",
        "| **Efficiency**             | High: Provides quick, targeted responses.                               | Medium: May require more effort to sift through additional content.      |\n",
        "| **Specificity**            | High: Precise and targeted responses.                                   | Medium: Answers may be less targeted due to inclusion of broader context.|\n"
      ]
    },
    {
      "cell_type": "markdown",
      "metadata": {},
      "source": [
        "![](https://europe-west1-rag-techniques-views-tracker.cloudfunctions.net/rag-techniques-tracker?notebook=all-rag-techniques--proposition-chunking)"
      ]
    }
  ],
  "metadata": {
    "colab": {
      "name": "",
      "provenance": [],
      "toc_visible": true
    },
    "kernelspec": {
      "display_name": "agentenv",
      "language": "python",
      "name": "python3"
    },
    "language_info": {
      "codemirror_mode": {
        "name": "ipython",
        "version": 3
      },
      "file_extension": ".py",
      "mimetype": "text/x-python",
      "name": "python",
      "nbconvert_exporter": "python",
      "pygments_lexer": "ipython3",
      "version": "3.12.9"
    }
  },
  "nbformat": 4,
  "nbformat_minor": 2
}
